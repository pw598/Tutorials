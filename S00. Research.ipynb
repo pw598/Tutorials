{
 "cells": [
  {
   "cell_type": "markdown",
   "id": "67363aee",
   "metadata": {},
   "source": [
    "<h1>Research</h1>"
   ]
  },
  {
   "cell_type": "markdown",
   "id": "30d9e6af",
   "metadata": {},
   "source": [
    "<h2 id=\"scientific\">The Scientific Method</h2>\n",
    "\n",
    "<p>The scientific method has characterized the develoment of knowledge since the 17th century. It is the method by which researchers investigate, verify, or construct an accurate hypothesis of natural phenomena. The scientific method involves the formulation of hypotheses, experimentation under controlled variables, and refinement or elimination of hypotheses. Experiments are conducted under an objective framework for the purpose of inquiry, careful observation, rigorous skepticism, and recognition of cognitive assumptions. A conclusion is reached, which supports or contradicts a hypothesis.</p>\n",
    "\n",
    "<p>The scientific method is rooted in empiricism, the theory that knowledge comes from observation. This is opposed to rationalism, which implies that reasoning is the source of truth. A scientific hypothesis is falsifiable, meaning that potential exists for an experimental outcome to identify a conflict with the prediction.</p>\n",
    "\n",
    "<p>The aim of the scientific method is to analyze the hypothesis made at the beginning of an experiment. Some areas of science are more readily testable than others, but there is a generally accepted set of steps toward gathering and examining evidence, and reaching analytical conclusions:</p>\n",
    "    <ol>\n",
    "        <li>Formulation of Question</li>\n",
    "        <li>Bakground Research</li>\n",
    "        <li>Hypothesis Construction</li>\n",
    "        <li>Experimentation</li>\n",
    "        <li>Data Analysis &amp; Interpretation</li>\n",
    "        <li>Communication of Results</li>\n",
    "    </ol>\n",
    "\n",
    "<p>Once observable phenomena lead a researcher to generate a question, all related data is collected, and a hypothesis formulated. The hypothesis could involve the cause, effect, or relationship to other variables, in which the other variables are controlled for. The confidence in the hypothesis either involves or decreases based on the results, whcih can either agree with or contradict the hypothesis.</p>\n",
    "\n",
    "<p>In actuality, there is a notable sub-process between experimentation and analysis of interpretation. The researcher should assess the quality of the experimental procedure, and repeat with correction if found faulty. Also, following step 5, there is a feedback process in which experimental distributions can form inquiries and research into future projects.</p>"
   ]
  },
  {
   "cell_type": "markdown",
   "id": "7bd92fed",
   "metadata": {},
   "source": [
    "<h2 id=\"statistical\">The Statistical Method</h2>\n",
    "\n",
    "<p>The statistical method refers to the demontration of degree of certainty for a proposition, hypothesis, or theory used to draw inferences about a population. To obtain data on the entire populations of interest is usually out of reach, and the statistical method provides a sampling protocol for quantitative hypothesis testing. The acronym P.P.D.A.C spells out the process defined by Mackay and Oldford (2000):</p>\n",
    "    <ol>\n",
    "        <li>Problem</li>\n",
    "        <li>Plan</li>\n",
    "        <li>Data</li>\n",
    "        <li>Analysis</li>\n",
    "        <li>Conclusion</li>\n",
    "    </ol>\n",
    "\n",
    "<p>In the planning stage, the population is studied, including its processes, units, variates, and attributes. Response variates are selected, such as how signals will be measured. The sampling protocol, including timing and frequency of measurement is determined, and so is the data-collection protocol.</p>\n",
    "\n",
    "<p>In the data stage, the plan to examine and monitor the data is executed, and observations recorded. In the analysis stage, it is numerically and/or graphically summarized, and a model of reality constructed with a formal analysis. Finally, conclusions are synthesized into plain language and graphics, and limitations including assumptions and potential errors noted.</p>"
   ]
  },
  {
   "cell_type": "markdown",
   "id": "254ec082",
   "metadata": {},
   "source": [
    "<h2 id=\"categor\">Categories of Clinical Trial</h2>\n",
    "\n",
    "<p>Clinical studies are part of experimental design studies but are likely to be conducted specifically in clinical or medical settings. They employ an experimental group, in which participants are randomly assigned to the experimental treatment, as opposed to a placebo. Participants are not informed of which group they belong to, in order to guard against expectations. This uninformed state is referred to as blind; a study in which both participants and researchers are unaware is referred to as double-blind, and a study in which the analyst is also unaware of interventions is known as triple-blind.</p>\n",
    "\n",
    "<p>A clinical trial is a carefully and ethically designed experiment in which participating subjects are assigned to the different modes of interventions simultaneously, at random, and in supervised manner. Clinical research does not always involve intervention; sometimes one just studies healthy volunteers.</p>\n",
    "\n",
    "<p>Many times the words experiment and trial are used interchangeably; both mean something done in anticipation of a result. Strictly speaking, any particular performance of a random experiment is called a trial. Where required to differentiate, the experiment is considered to be a larger entity consisting of multiple trials. ‘Event’ and ‘outcome’ are both defined as something that results, or a result caused by some action.</p>\n",
    "\n",
    "<p>At a high level, studies or trials can be thought of as belonging to one of three types. In <b id=non_exp>non-experimental studies</b>, before and after outcomes are measured for participants only, and there is no control group. In <b id=\"quasi\">quasi-experimental studies</b>, outcomes for a control group are measured, but with a method rather than random allocation of interventions. <b id=\"exp_stud\">Experimental studies</b> measure an outcome for both participants and control groups, and interventions are allotted randomly.</p>\n",
    "\n",
    "<p>Quasi-experimental trials are often referred to as ‘open’ trials, indicating that there is no specific methodological characteristic. It does not need a control group, and can be non-blinded.</p>"
   ]
  },
  {
   "cell_type": "markdown",
   "id": "b082c2a3",
   "metadata": {},
   "source": [
    "<h2 id=\"types\">Types of Clinical Trials</h2>\n",
    "\n",
    "<p><b id=\"rct\">Randomized control trials (RCTs)</b> are the most commonly performed interventional trial, and the gold standard against which other designs are measured. The interventions are allotted to subjects on the basis of randomness. Because randomization is the main ingredient of RCTs, they have high scientific validity, and are considered to have the highest level of rigor.</p>\n",
    "\n",
    "<p><b id=\"parallel_rct\">Parallel RCTs</b> are trials in which treatment groups receive a randomly allocation intervention for the duration of the study, and ‘crossover-RCTs’ refer to treatment groups receiving both interactions at any phase during the study.</p>\n",
    "\n",
    "<p>With <b id=\"epidem\">epidemiological studies</b>, a.k.a. observational or non-interventional studies, interventions are not allotted to research subjects at all. There are several types. In <b>cross-section</b>, a.k.a. prevalence studies, there is a low duration of study, essentially looking back at a single point or timeframe. The objective is to find possible links between the risk factor and estimated outcome. Another type is <b>cohort studies</b>, which follow a group of people with similar status or characteristics (this is what’s called a cohort) over a period of time, either prospectively or retrospectively.</p>\n",
    "\n",
    "<p>In <b id=\"n_of_1\">N-of-1</b> clinical trials, the total population is a single patient, and the order of administration of treatments compared are determined in a random way.</p>\n",
    "\n",
    "<p><b id=\"explor\">Exploratory</b> clinical trials are usually done in early phases of drug development, with restricted inclusion criteria in which to obtain a homogenous sample of participants, representative only of specific subgroups of the finite population.</p>\n",
    "\n",
    "<p><b id=\"uni_center\">Uni-center</b> clinical trials are carried out by a single researcher or team in one center (like a hospital or university). A <b>multi-center</b> clinical trial is carried out in two or more centers with the same protocol, and some coordinator responsible for analysis of results.</p>\n",
    "\n",
    "<p>A <b id=\"parallel\">parallel clinical trial</b> (such as the above-mentioned parallel RCT trials) is one in which each group of patients receives a single treatment simultaneously. A sequential clinical trial is one in which observations are assessed as they are produced, and the total number of participants is not pre-determined, but rather depends on accumulated results. The subjects of the experimental group and the control group are arranged in pairs (one receives the experimental treatment, the other the reference treatment), and are examined and added to the results obtained up to that point.</p>"
   ]
  }
 ],
 "metadata": {
  "kernelspec": {
   "display_name": "Python 3 (ipykernel)",
   "language": "python",
   "name": "python3"
  },
  "language_info": {
   "codemirror_mode": {
    "name": "ipython",
    "version": 3
   },
   "file_extension": ".py",
   "mimetype": "text/x-python",
   "name": "python",
   "nbconvert_exporter": "python",
   "pygments_lexer": "ipython3",
   "version": "3.9.12"
  }
 },
 "nbformat": 4,
 "nbformat_minor": 5
}
