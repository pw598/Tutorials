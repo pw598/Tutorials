{
 "cells": [
  {
   "cell_type": "markdown",
   "id": "6ec683f5",
   "metadata": {},
   "source": [
    "<h1>Sampling</h1>"
   ]
  },
  {
   "cell_type": "markdown",
   "id": "6b722117",
   "metadata": {},
   "source": [
    "<p><b>Sampling</b> is the process of selecting a limited number of items from which to draw inferences about a population. Obtaining data for an entire population is often prohibitively time-consuming, and logistically challenging. One’s ability to infer is constrained by the size and scope of one’s sample.</p>\n",
    "\n",
    "<p>The <b>target population</b> is what is generalized toward, and a common mistake is to generalize more broadly than what this affords. The maximum number of elements for which measurement can be successfully obtained is called the <b>sampling frame</b>, or study population, and in cases where it is much smaller than the target population, the issue of under-coverage should be addressed. Sampling error refers to the level of difference between measured values and thea true mean of the target population.</p>"
   ]
  },
  {
   "cell_type": "markdown",
   "id": "fbf691d7",
   "metadata": {},
   "source": [
    "<h2 id=\"categories\">Categories of Sampling Techniques</h2>\n",
    "\n",
    "<p><b id=\"random\">Random sampling</b> techniques, a.k.a. probability sampling, involve an element of randomness, and are representative of a population to a measurable degree of certainty. Their advantages include that there tend to reduce the chance of sampling error, and minimize the chance of sampling bias. Their disadvantages include being heavy on effort, expense, and time.</p>\n",
    "\n",
    "<p><b id=\"non_rand\">Non-random sampling</b> techniques are low on effort and time, but prone to systemic biases and sampling error. Their inferences are not nearly as generalizable to the broader population.</p>\n",
    "\n",
    "<table class=\"tableizer-table\">\n",
    "<thead><tr class=\"tableizer-firstrow\"><th>Random Sampling Techniques</th><th>Non-Random Techniques</th></tr></thead><tbody>\n",
    " <tr><td>Simple Random</td><td>Convenience</td></tr>\n",
    " <tr><td>Systematic</td><td>Quota</td></tr>\n",
    " <tr><td>Stratified</td><td>Expert</td></tr>\n",
    " <tr><td>Multistage</td><td>&nbsp;</td></tr>\n",
    " <tr><td>Cluster</td><td></td></tr>\n",
    "</tbody></table>\n",
    "\n",
    "<p id=\"enum\"><b>Enumerations</b> are a collection of data for every entity in the population, and as such, need not be concerned with significance. Types of sampling that does not consider significance should follow the below high-level steps:</p>\n",
    "<ol>\n",
    "    <li>Define the population</li>\n",
    "    <li>Select Numerical or Proportional Sampling</li>\n",
    "    <li>Select Confidence Level</li>\n",
    "    <li>Determine Sample Size</li>\n",
    "    <li>Evaluate Sample</li>\n",
    "</ol>"
   ]
  },
  {
   "cell_type": "markdown",
   "id": "8ee3cedc",
   "metadata": {},
   "source": [
    "<h2 id=\"rand_samp\">Types of Random Sampling</h2>\n",
    "\n",
    "<p>In <b id=\"simple_rand\">simple random sampling</b>, each element of the population has an equal chance of being selected. Requirements include that the population be finite, and each element exclusive and indistinguishable. Simple random sampling is highly accepted, requires minimal prior knowledge of a population, and is essentially free from subjectivity; but it can very well require the highest level of expense and expertise in subject matter.</p>\n",
    "\n",
    "<p>If done without replacement, which is more common, each element in the sampling frame may be selected only once. If done with replacement, each entity may be selected twice or more, as the pool of individuals from which they are sampled has each individual replaced upon selection.</p>\n",
    "\n",
    "<p>In <b id=\"syst_samp\">systematic sampling</b>, a researcher divides the population by sample size, then chooses a number between one and the population size to be the first in the sample, and also selects every X<sup>th</sup> item after the first. Systematic random sampling, in which the population is first sorted randomly, is generally preferable, as there may otherwise be order bias, an unwanted sorting of the data along some metric. Repeated systematic sampling is a variant which seeks to avoid the possibility of systemic biases due to periodicity in the sampling frame.</p>\n",
    "\n",
    "<p><b id=\"strat_rand\">Stratified random sampling</b> utilizes ‘strata’, meaning variables (e.g., age) grouped in sampling. One may simultaneously stratify for multiple variables, and the finer the stratification, the more precision per stratum, compared to simple random sampling. One may stratify for multiple variables simultaneously. A primary sampling unit (PSA) is the level of aggregation immediately above the individual level, such as residences compared to individuals in a census.</p>\n",
    "\n",
    "<p>Advantages of stratified sampling include a lack of subjectivity, and a tendency to be well-representative. Disadvantages include the need to determine criteria by which to separate, a focus toward one or few features, the risk in generalizing by strata, and the time and expense of randomization.</p>\n",
    "\n",
    "<p>In <b id=\"clust_samp\">cluster sampling</b>, the researcher creates samples of individuals with certain aggregational units of interest (e.g., ethnicity). Single-stage cluster sampling is synonymous with stratified random sampling. Multi-stage cluster sampling is synonymous with multi-stage stratified sampling, and called ‘area-sampling’ in geographic contexts. Some reserve the term cluster-sampling for two-stage multi-cluster sampling, and multi-stage cluster sampling for purposes of 3 or more stages.</p>\n",
    "\n",
    "<p>In <b id=\"multi_stg\">multi-stage stratified random sampling</b>, the researcher draws simple random samples from successively more homogenous groups (strata) until the individual subject level is reached. For example, stratifying by industry, and then sampling companies by industry at random, and perhaps then people by company at random. It increases research precision by ensuring that key populations of subjects are represented in the sample.</p>\n",
    "\n",
    "<p>The greater the heterogeneity of the strata, and the finer the stratification, the greater the precision of results. It becomes more precise with each stratification because the variance of individuals from each strata is less than the population variance (standard errors are reduced).</p>\n",
    "\n",
    "<p>When stratification reduces standard error, multistage sampling increases it, because the chances of sampling error accumulate at each stage. Multi-stage or cluster sampling is usually less precise than simple random, which in turn is less precise than one-stage stratified sampling.</p>\n",
    "\n",
    "<p>Disproportionate stratified sampling occurs when disproportionate numbers exist for some strata vs. others. One use is to oversample criteria populations (e.g., members of a particular ethnicity) to allow statistical analysis of adequate precision. The problems inherent to unbalanced sampling by strata do apply.</p>"
   ]
  },
  {
   "cell_type": "markdown",
   "id": "37d95c57",
   "metadata": {},
   "source": [
    "<h2>Types of Non-Random Sampling</h2>\n",
    "\n",
    "<p>Non-random sampling is widely used as a case selection method for qualitative research, or for quantitative studies where random sampling is unfavorable (perhaps due to cost). There exists no true statistical way to measure their validity toward inference. Non-random sampling techniques include convenience sampling, quota sampling, and expert sampling.</p>\n",
    "\n",
    "<p><b id=\"convenience\">Convenience sampling</b>, a.k.a. haphazard or availability sampling, selects subjects on the basis of availability, such as interviewing people as they leave a concert.</p>\n",
    "\n",
    "<p><b id=\"quota\">Quota sampling</b> is convenience sampling with the constraint that proportionately by strata be preserved. Maximum variation sampling is a variant of quota sampling in which a set of cases which exhibit maximum differences in variables of interest are selected purposefully and non-randomly.</p>\n",
    "\n",
    "<p><b id=\"expert\">Expert sampling</b>, a.k.a. judgment sampling, involves interviewing individuals known to be experts in a field (e.g., award winners). Critical case sampling is a variant in which the sample is a set of cases or individuals identified by experts as being highly significant. Chain referral sampling, a.k.a. network sampling, is a method of selecting experts whereby the researcher starts with a subject displaying the qualities of interest, and then uses their referral to find others, and so forth.</p>\n"
   ]
  },
  {
   "cell_type": "markdown",
   "id": "b8bb47bd",
   "metadata": {},
   "source": [
    "<h2 id=\"signif_samp\">Significance &amp; Sample Size</h2>\n",
    "\n",
    "<p>Highly related to sampling and inference is the concept of significance – i.e., the degree of certainty to which a measurement is considered accurate toward inferences, and for what range of results. Approximately defining the population and areas of focus promote targeted, risk-conscious, and efficient sampling.</p>\n",
    "\n",
    "<p>Sample-size can be determined by the equation which comes from a manipulation of the binomial probability mass function (PDF)., n = ln(1-c)/ln(1-p), where p is the tolerance rate, c is the confidence level, and n is the sample size.</p>\n",
    "\n",
    "<p>Tolerance rate is the rate of exceptions that examiners would like to demonstrate is not exceeded in the population. It should be selected at the outset of sampling, after defining the population. Confidence level, i.e., significance, refers to the level of statistical assurance that conclusions about the population are generalizable/accurate.</p>\n",
    "\n",
    "<p>Sample size calculators are widely available online, and consider many additional parameters. The required size of sample will increase given the following:</p>\n",
    "    <ol>\n",
    "        <li>More variance</li>\n",
    "        <li>More control variables</li>\n",
    "        <li>Weaker relationships</li>\n",
    "        <li>More stringent significance Level</li>\n",
    "        <li>Less data points for a particular class</li>\n",
    "    </ol>\n"
   ]
  },
  {
   "cell_type": "markdown",
   "id": "8c911fe3",
   "metadata": {},
   "source": [
    "<h2 id=\"samp_issues\">Dealing with Sampling Issues</h2>\n",
    "\n",
    "<p>Often, the sampling frame does not match the primary sampling unit. For example, a list of individual residences as the sampling frame, but individual people as the primary sampling unit (PSU). The interviewer then needs instruction on how to select the individuals, and this can be provided in the form of a selection grid. For example, the below instructs a census interviewer about which taxpayers in the residence to interview.</p>\n",
    "\n",
    "<table class=\"tableizer-table\">\n",
    "<thead><tr class=\"tableizer-firstrow\"><th>Survey Form</th><th>% of All Forms</th><th>1 taxpayer</th><th>2 taxpayers</th><th>3 taxpayers</th></tr></thead><tbody>\n",
    " <tr><td>A</td><td>33.3%</td><td>interview #1</td><td>interview #1</td><td>interview #1</td></tr>\n",
    " <tr><td>B</td><td>16.7%</td><td>interview #1</td><td>interview #1</td><td>interview #2</td></tr>\n",
    " <tr><td>C</td><td>16.7%</td><td>interview #1</td><td>interview #2</td><td>interview #2</td></tr>\n",
    " <tr><td>D</td><td>33.3%</td><td>interview #1</td><td>interview #2</td><td>interview #3</td></tr>\n",
    "</tbody></table>\n",
    "\n",
    "\n",
    "<h3 id=\"low_resp\">Low Response Rate</h3>\n",
    "\n",
    "<p>Heuristically, a response rate of 75% is good for face-to-face, and 10% for mail-in surveys. Ways to increase response rate include:</p>\n",
    "    <ul>\n",
    "        <li>Sponsorship from a compelling and legitimate sponsor</li>\n",
    "        <li>A good, short, explanation of the justification</li>\n",
    "        <li>Notifying individuals in advance that a survey is coming</li>\n",
    "        <li>Keeping the survey short, letting the prospective subjects know that it's short</li>\n",
    "        <li>Assure confidentiality and anonymity</li>\n",
    "        <li>Offer to reschedule at the subject's convenience</li>\n",
    "        <li>Start the survey with non-threatening questions that arouse interest</li>\n",
    "        <li>Offer to provide the final results</li>\n",
    "        <li>Offer money</li>\n",
    "    </ul>"
   ]
  },
  {
   "cell_type": "markdown",
   "id": "d0c9af51",
   "metadata": {},
   "source": [
    "<h3 id=\"non_resp\">Analyzing Non-Response</h3>\n",
    "\n",
    "<p>Researchers must assume that non-respondents are significantly different from respondents, at least in terms of the variable of interest. The following strategies may be used, and are not mutually exclusive.</p>\n",
    "\n",
    "<p>Researchers must assume that <b>non-respondents</b> are significantly different from respondents, at least in terms of the variable of interest. The following strategies may be used, and are not mutually exclusive.</p>\n",
    "\n",
    "<ol>    \n",
    "    <li><b>Population Comparison:</b> sample/survey averages can be compared to population averages, if known from prior or widespread research, for example</li>\n",
    "\n",
    "    <li><b>Intensive Post-Sampling:</b> an intense effort to interview the non-respondents. The post-sample is added to the original sample, to reduce bias.</li>\n",
    "\n",
    "    <li><b>Imputing Responses:</b> if respondents are not required to answer all questions, it may be preferable to impute (fill) missing data. This also applies to surveys in which the questions or sampling methods are not consistent. The method can involve multiply-imputing the missing items and questions, by adding a hierarchical regression model that allows covariates at the individual and survey levels.</li>\n",
    "\n",
    "    <li><b>Weighting:</b> can adjust for probability of selection, non-response, stratification, and other purposes. Supporters argue that weighting is a reasonable form of approximation to adjust for known biases, when it is better to correct than to not.</li>\n",
    "</ol>\n"
   ]
  },
  {
   "cell_type": "markdown",
   "id": "4af15100",
   "metadata": {},
   "source": [
    "<h2 id=\"resamp\">Resampling and Reinforcement Methods</h2>\n",
    "\n",
    "<h3 id=\"mc\">Monte Carlo Methods</h3>\n",
    "\n",
    "<p><b>Monte Carlo</b> (MC) sampling methods, <b>a.k.a Bootstrap</b> methods, describe a class of techniques for randomly resampling a probability distribution - in other words, performing simple random sampling with replacement. The 3 main purposes are to 1) estimate density, 2) approximate a quantity, or 3) optimize a function.</p>\n",
    "\n",
    "<p>Such methods are <b>stochastic</b>, meaning they make use of randomized decisions, by drawing from a random probability distribution. Resampling can be put toward the calculation of various statistics with greater precision, albeit through a method which only mimics the sampling process, and therefore has some costraints.</p>\n",
    "\n",
    "<p>Monte Carlo methods are defined by the way samples are drawn, or constraints imposed upon the sampling process:</p>\n",
    "    <ol>\n",
    "        <li>Direct Sampling: sampling the distribution directly with no prior knowledge</li>\n",
    "        <li>Importance Sampling: sampling from a similar approximation of the target distribution</li>\n",
    "        <li>Rejection Sampling: refers to sampling from a broader distribution, only considering particular area(s) of the distribution</li>\n",
    "    </ol>\n",
    "\n",
    "<p>Given the Law of Large Numbers, the more random trials that are performed, the more accurate the approximated prediction should become. Given the random sampling and the Central Limit Theorem, the constructed distribution should approach Gaussianity.</p>"
   ]
  },
  {
   "cell_type": "markdown",
   "id": "bf362e4e",
   "metadata": {},
   "source": [
    "<h3 id=\"reinforcement\">Reinforcement Sampling</h3>\n",
    "\n",
    "<p>Like Monte Carlo methods, <b>reinforcement sampling</b> involves sampling with replacement; for example, if determining which of 3 current marketing ads to utilize most heavily in the coming weeks. But unlike Monte Carlo methods, reinforcement sampling does not seek to select entirely randomly. The marketing ad you would pick to favor should be one that has demonstrated greatest success, but there is an explore/exploit dilemma - how do you know which one is the best unless they have all been tried a significant number of times?</p>\n",
    "\n",
    "<p>The above problem is analogous to the famous multi-armed bandit problem. The multi-armed bandit is a slot machine among adjacent slot machines, and as a gambler, you want to use your resources efficiently by selecting the 'winningest' bandit to play each round. In this case, you could make your next picks based on the upper confidence bound of each machine's probability of payout. Some randomness should accompany this (and necessarily does for the first pick), and regularization could be used to adjust the explore/exploit dynamic.</p>\n",
    "\n",
    "<p>Another example of usage could be in a trial of multiple life-saving drugs, but with relatlively unknown risks. With the multi-armed bandit, the priority was geared toward attaining true positives; but in this case, the priority might be geared toward avoiding side effects. So in this case, one might select based on the lower confidence bound of the risk of side effects, with each drug initially starting at the same point relative to zero.</p>"
   ]
  }
 ],
 "metadata": {
  "kernelspec": {
   "display_name": "Python 3 (ipykernel)",
   "language": "python",
   "name": "python3"
  },
  "language_info": {
   "codemirror_mode": {
    "name": "ipython",
    "version": 3
   },
   "file_extension": ".py",
   "mimetype": "text/x-python",
   "name": "python",
   "nbconvert_exporter": "python",
   "pygments_lexer": "ipython3",
   "version": "3.9.12"
  }
 },
 "nbformat": 4,
 "nbformat_minor": 5
}
