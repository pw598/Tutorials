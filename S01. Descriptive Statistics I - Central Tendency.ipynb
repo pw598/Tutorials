{
 "cells": [
  {
   "cell_type": "markdown",
   "id": "55ec52ba",
   "metadata": {},
   "source": [
    "# Measures of Central Tendency"
   ]
  },
  {
   "cell_type": "markdown",
   "id": "93af2f6e",
   "metadata": {},
   "source": [
    "Describing and summarizing data is important to understanding it at scale. Descriptive statistics summarize raw observations into information that can be understood and shared. At the heart of the matter is describing data via their distributions.\n",
    "\n",
    "Measures of central tendency of a distribution reflect which observations one is most likely to witness if sampling from that distribution."
   ]
  },
  {
   "cell_type": "markdown",
   "id": "def38b56",
   "metadata": {},
   "source": [
    "## Mean, Median, Mode"
   ]
  },
  {
   "cell_type": "markdown",
   "id": "79147213",
   "metadata": {},
   "source": [
    "- The <b>mean</b> is the average value - it asks whether values are clustered around a particular point\n",
    "- The <b>median</b> describes the middle percentile - the halfway point in a list of sorted observations - and is unaffected by outliers\n",
    "- The <b>mode</b> describes the most frequent observation(s), and whether there is more than one cluster\n",
    "\n",
    "For a thoeretical normal distribution (though not necessarily a sampled one), the mean, median, and mode have the same value"
   ]
  },
  {
   "cell_type": "markdown",
   "id": "4ebcea95",
   "metadata": {},
   "source": [
    "### Mean"
   ]
  },
  {
   "cell_type": "markdown",
   "id": "587443d1",
   "metadata": {},
   "source": [
    "Let's start by importing a couple of libraries, and setting a style for the charts"
   ]
  },
  {
   "cell_type": "code",
   "execution_count": 1,
   "id": "8688e38e",
   "metadata": {},
   "outputs": [],
   "source": [
    "import numpy as np\n",
    "import matplotlib.pyplot as plt\n",
    "plt.style.use('seaborn-darkgrid')"
   ]
  },
  {
   "cell_type": "markdown",
   "id": "2afaecaa",
   "metadata": {},
   "source": [
    "Next I will import the 'norm' package from Scipy, and use it to generate some random data from a normal distribution (distributions are the topic of a later notebook in this series)."
   ]
  },
  {
   "cell_type": "code",
   "execution_count": 2,
   "id": "3f5ca359",
   "metadata": {},
   "outputs": [],
   "source": [
    "from scipy.stats import norm\n",
    "mu = 0\n",
    "sd = 1\n",
    "data = norm.rvs(loc=mu, scale=sd, size=300, random_state=123)"
   ]
  },
  {
   "cell_type": "code",
   "execution_count": 3,
   "id": "455e85fd",
   "metadata": {
    "scrolled": true
   },
   "outputs": [
    {
     "data": {
      "image/png": "[encoded data removed]",
      "text/plain": [
       "<Figure size 432x288 with 1 Axes>"
      ]
     },
     "metadata": {},
     "output_type": "display_data"
    },
    {
     "data": {
      "image/png": "[encoded data removed]",
      "text/plain": [
       "<Figure size 432x288 with 1 Axes>"
      ]
     },
     "metadata": {},
     "output_type": "display_data"
    }
   ],
   "source": [
    "plt.bar(np.linspace(0,len(data),300),data)\n",
    "plt.show();\n",
    "plt.hist(data);"
   ]
  },
  {
   "cell_type": "markdown",
   "id": "b632fafa",
   "metadata": {},
   "source": [
    "And then calculate the mean, \n",
    "\n",
    "$$\\frac{1}{n} \\sum_{i=1}^n x_i$$ "
   ]
  },
  {
   "cell_type": "code",
   "execution_count": 4,
   "id": "edcf913c",
   "metadata": {},
   "outputs": [
    {
     "data": {
      "text/plain": [
       "-0.029185933219752772"
      ]
     },
     "execution_count": 4,
     "metadata": {},
     "output_type": "execute_result"
    }
   ],
   "source": [
    "# Calculate the mean using a built-in function\n",
    "data.mean()"
   ]
  },
  {
   "cell_type": "code",
   "execution_count": 5,
   "id": "b8f8efc8",
   "metadata": {},
   "outputs": [
    {
     "data": {
      "text/plain": [
       "-0.02918593321975275"
      ]
     },
     "execution_count": 5,
     "metadata": {},
     "output_type": "execute_result"
    }
   ],
   "source": [
    "# Calculate the mean from component functions\n",
    "mean = sum(data)/len(data)\n",
    "mean"
   ]
  },
  {
   "cell_type": "markdown",
   "id": "a29b2514",
   "metadata": {},
   "source": [
    "Note that even though we specified a mu ($\\mu$) of zero for the random data, the mean is not exactly zero (though close). This is due to what is referred to as sampling variability. <i>The law of large numbers</i> tells us that a greater sample size will lead to a mean closer to the 'population' we are drawing from. For example, if 10,000 points were generated instead of 300."
   ]
  },
  {
   "cell_type": "code",
   "execution_count": 6,
   "id": "7e89d3ef",
   "metadata": {
    "scrolled": true
   },
   "outputs": [
    {
     "name": "stdout",
     "output_type": "stream",
     "text": [
      "Mean: 0.009711892291595955\n"
     ]
    },
    {
     "data": {
      "image/png": "[encoded data removed]",
      "text/plain": [
       "<Figure size 432x288 with 1 Axes>"
      ]
     },
     "metadata": {},
     "output_type": "display_data"
    }
   ],
   "source": [
    "from scipy.stats import norm\n",
    "mu = 0\n",
    "sd = 1\n",
    "data = norm.rvs(loc=mu, scale=sd, size=10000, random_state=123)\n",
    "print('Mean:', data.mean())\n",
    "plt.hist(data);"
   ]
  },
  {
   "cell_type": "markdown",
   "id": "21c08b5f",
   "metadata": {},
   "source": [
    "Notice the mean (printed just above the histogram) is now much closer to the specified $\\mu$ of 0"
   ]
  },
  {
   "cell_type": "markdown",
   "id": "26fae475",
   "metadata": {},
   "source": [
    "### Median"
   ]
  },
  {
   "cell_type": "markdown",
   "id": "c10d0dcb",
   "metadata": {},
   "source": [
    "If you sort your data points by value, the point in the middle of the list is the median. If there are an even number of points, a tie-breaker such as rounding to the first-occurring of the two is used. \n",
    "\n",
    "What's helpful about the median is that while the mean can be heavily skewed by outliers, the median does not look at the values of the observations - it only cares where the middle point resides, and returns its value. As such, it can be a more reliable or informative measure of central tendency for some purposes."
   ]
  },
  {
   "cell_type": "code",
   "execution_count": 7,
   "id": "c8cf0bd7",
   "metadata": {},
   "outputs": [
    {
     "data": {
      "text/plain": [
       "0.011846468442650918"
      ]
     },
     "execution_count": 7,
     "metadata": {},
     "output_type": "execute_result"
    }
   ],
   "source": [
    "# Median of our new normal distribution using Numpy\n",
    "np.median(data)"
   ]
  },
  {
   "cell_type": "code",
   "execution_count": 8,
   "id": "9763f1d1",
   "metadata": {
    "scrolled": true
   },
   "outputs": [
    {
     "data": {
      "text/plain": [
       "0.011888955772325212"
      ]
     },
     "execution_count": 8,
     "metadata": {},
     "output_type": "execute_result"
    }
   ],
   "source": [
    "# Median from scratch\n",
    "median = sorted(data)[len(data) // 2] # // divides and rounds to the next-smallest whole number\n",
    "median"
   ]
  },
  {
   "cell_type": "markdown",
   "id": "a0ef7b3f",
   "metadata": {},
   "source": [
    "The median does not match the mean, but again due to sampling variability... what if we generate 10 million points?"
   ]
  },
  {
   "cell_type": "code",
   "execution_count": 9,
   "id": "e308ff1e",
   "metadata": {
    "scrolled": true
   },
   "outputs": [
    {
     "name": "stdout",
     "output_type": "stream",
     "text": [
      "Mean: 0.0097\n",
      "Median: 0.0118\n"
     ]
    },
    {
     "data": {
      "image/png": "[encoded data removed]",
      "text/plain": [
       "<Figure size 432x288 with 1 Axes>"
      ]
     },
     "metadata": {},
     "output_type": "display_data"
    }
   ],
   "source": [
    "from scipy.stats import norm # more on this in the lessons to come\n",
    "mu = 0\n",
    "sd = 1\n",
    "x = norm.rvs(loc=mu, scale=sd, size=10000000, random_state=123)\n",
    "print('Mean:', round(data.mean(),4))\n",
    "print('Median:', round(np.median(data),4))\n",
    "plt.hist(x);"
   ]
  },
  {
   "cell_type": "markdown",
   "id": "f908c3b2",
   "metadata": {},
   "source": [
    "Notice how much closer the mean and median now are. Notice as well how much closer to zero they both are, given the larger sample size.\n",
    "\n",
    "An (essentially) equal mean and median is a property of the normal distribution. Let's take a look at the difference between mean and median in a distribution that isn't quite as symmetrical - the chi-square distribution:"
   ]
  },
  {
   "cell_type": "code",
   "execution_count": 10,
   "id": "da90a765",
   "metadata": {},
   "outputs": [
    {
     "name": "stdout",
     "output_type": "stream",
     "text": [
      "Mean:  5.070719254813054\n",
      "Median:  4.4965134036434815\n"
     ]
    },
    {
     "data": {
      "image/png": "[encoded data removed]",
      "text/plain": [
       "<Figure size 576x360 with 1 Axes>"
      ]
     },
     "metadata": {},
     "output_type": "display_data"
    }
   ],
   "source": [
    "from scipy.stats import chi2\n",
    "data = chi2.rvs(size=3000, df=5, random_state=123)\n",
    "\n",
    "mean = np.mean(data)\n",
    "median = np.median(data)\n",
    "\n",
    "y,x = np.histogram(data,50)\n",
    "x = (x[:-1]+x[1:])/2\n",
    "\n",
    "print('Mean: ', mean)\n",
    "print('Median: ', median)\n",
    "\n",
    "fig,ax = plt.subplots(1,1,figsize=(8,5))\n",
    "ax.bar(x, y, color='lightblue', label=\"Data\")\n",
    "ax.plot([mean,mean],[0,max(y)],'k--', label=\"Mean\")\n",
    "ax.plot([median,median],[0,max(y)],'r--', label=\"Median\")\n",
    "ax.set_title('Chi-Square Distribution')\n",
    "ax.legend()\n",
    "plt.show()"
   ]
  },
  {
   "cell_type": "markdown",
   "id": "b5707ed3",
   "metadata": {},
   "source": [
    "The median of this distribution is noticably lower than the average, because a small number of data points on the right side of the distribution are carrying relatively high values, skewing the mean toward them."
   ]
  },
  {
   "cell_type": "markdown",
   "id": "9f9cc195",
   "metadata": {},
   "source": [
    "### Mode"
   ]
  },
  {
   "cell_type": "markdown",
   "id": "fc041036",
   "metadata": {},
   "source": [
    "The mode is the value observed most frequently in the dataset, and may be tied amongst two or more values. A distribution with multiple humps is said to be multi-modal.\n",
    "\n",
    "We can use the Pandas module to call upon a built-in mode function. I will round the values of the generated data to two digits so as to better-discretize them."
   ]
  },
  {
   "cell_type": "code",
   "execution_count": 11,
   "id": "b8c36dc0",
   "metadata": {},
   "outputs": [],
   "source": [
    "import pandas as pd"
   ]
  },
  {
   "cell_type": "code",
   "execution_count": 12,
   "id": "4f79ee9a",
   "metadata": {},
   "outputs": [],
   "source": [
    "# Round the data points\n",
    "y = [round(x,2) for x in data]"
   ]
  },
  {
   "cell_type": "code",
   "execution_count": 13,
   "id": "c64a6f89",
   "metadata": {
    "scrolled": true
   },
   "outputs": [
    {
     "data": {
      "text/plain": [
       "array([[3.09]])"
      ]
     },
     "execution_count": 13,
     "metadata": {},
     "output_type": "execute_result"
    }
   ],
   "source": [
    "# Create a Pandas dataframe and run the mode function\n",
    "df = pd.DataFrame(y, columns=['values'])\n",
    "md = df.mode().values\n",
    "md"
   ]
  },
  {
   "cell_type": "markdown",
   "id": "617ffacd",
   "metadata": {},
   "source": [
    "To help prove to ourselves that this is correct, we can obtain the count of rows containing this value, and put that procedure into a loop in case you encounter multiple modes with modified data."
   ]
  },
  {
   "cell_type": "code",
   "execution_count": 14,
   "id": "6fe19f27",
   "metadata": {},
   "outputs": [
    {
     "name": "stdout",
     "output_type": "stream",
     "text": [
      "3.09 Count of:  values    11\n",
      "dtype: int64\n"
     ]
    }
   ],
   "source": [
    "for i in range(0,len(md)):\n",
    "    print(np.squeeze(md[i]), 'Count of: ', df[df['values'] == np.squeeze(md[i])].count());"
   ]
  },
  {
   "cell_type": "markdown",
   "id": "84ae1114",
   "metadata": {},
   "source": [
    "This is how the mode is found when operating upon raw values. If operating upon histogram-formatted data, then the data are more discretized, and the mode would correspond to the bin or bins carrying the largest count of values."
   ]
  },
  {
   "cell_type": "code",
   "execution_count": 15,
   "id": "fcc7f794",
   "metadata": {},
   "outputs": [],
   "source": [
    "y,x = np.histogram(data,100)\n",
    "x = (x[:-1]+x[1:])/2"
   ]
  },
  {
   "cell_type": "code",
   "execution_count": 16,
   "id": "b5d5cf3b",
   "metadata": {},
   "outputs": [
    {
     "name": "stdout",
     "output_type": "stream",
     "text": [
      "3.023206755994256 3.278815908101779\n"
     ]
    }
   ],
   "source": [
    "for i in range(0,len(y)):\n",
    "    if y[i] == max(y):\n",
    "        mode_st = x[i-1]\n",
    "        mode_end = x[i]\n",
    "print(mode_st, mode_end)"
   ]
  },
  {
   "cell_type": "markdown",
   "id": "6c164035",
   "metadata": {},
   "source": [
    "Notice that the mode of 3.09 obtained at the data-point level is associated with the tallest bin of the histogram"
   ]
  },
  {
   "cell_type": "markdown",
   "id": "2bc96dc1",
   "metadata": {},
   "source": [
    "## Bonus: Percentile and Quartile"
   ]
  },
  {
   "cell_type": "markdown",
   "id": "515a40e0",
   "metadata": {},
   "source": [
    "The definition of percentile is illustrated by the fact that our median resides at the 50th percentile. If we wanted to know what value is found along a different percentile, such as 25% or 75% of the way down our list of sorted values, this can be achieved as well. \n",
    "\n",
    "To use data that is more meaningful, let's simulate it based on the observed average and variability of human height in cm (ignoring the gender distinction)."
   ]
  },
  {
   "cell_type": "code",
   "execution_count": 17,
   "id": "13e5b2ce",
   "metadata": {
    "scrolled": false
   },
   "outputs": [
    {
     "data": {
      "image/png": "[encoded data removed]",
      "text/plain": [
       "<Figure size 432x288 with 1 Axes>"
      ]
     },
     "metadata": {},
     "output_type": "display_data"
    }
   ],
   "source": [
    "mu = 170\n",
    "sd = 7\n",
    "data = norm.rvs(loc=mu, scale=sd, size=1000, random_state=123)\n",
    "plt.hist(data);"
   ]
  },
  {
   "cell_type": "markdown",
   "id": "2983f551",
   "metadata": {},
   "source": [
    "A box plot tells us about the spread of data in relation to the interquartile range. This means the 25th to 75th percentile, represented by the top and bottom edge of the box in the plot below. Near the middle of the box is the median, denoted by the orange line. Like a histogram, it helps us to understand how centered the data is, in relation to the center. In other words, whether or not the majority of values are clustered around the median, and to what degree."
   ]
  },
  {
   "cell_type": "code",
   "execution_count": 18,
   "id": "909c73cd",
   "metadata": {
    "scrolled": true
   },
   "outputs": [
    {
     "data": {
      "image/png": "[encoded data removed]",
      "text/plain": [
       "<Figure size 432x288 with 1 Axes>"
      ]
     },
     "metadata": {},
     "output_type": "display_data"
    }
   ],
   "source": [
    "plt.boxplot(data);"
   ]
  },
  {
   "cell_type": "markdown",
   "id": "e3673d1e",
   "metadata": {},
   "source": [
    "The 'ppf' function in Scipy can tell us at what height is at the 90th percentile, for the appropriate distribution (which is in this case the normal distribution):"
   ]
  },
  {
   "cell_type": "code",
   "execution_count": 19,
   "id": "25e7134b",
   "metadata": {},
   "outputs": [
    {
     "data": {
      "text/plain": [
       "178.9708609588122"
      ]
     },
     "execution_count": 19,
     "metadata": {},
     "output_type": "execute_result"
    }
   ],
   "source": [
    "norm.ppf(0.90, loc=mu, scale=sd)"
   ]
  },
  {
   "cell_type": "markdown",
   "id": "93202342",
   "metadata": {},
   "source": [
    "<i>At a height of approx. 179cm, you are taller than approx. 90% of the population.</i>\n",
    "\n",
    "The 'cumulative density function' can be used to ask a similar question, but in reverse - for example, if you are 175cm tall, which percentile are you in?"
   ]
  },
  {
   "cell_type": "code",
   "execution_count": 20,
   "id": "74ba1bbd",
   "metadata": {
    "scrolled": true
   },
   "outputs": [
    {
     "data": {
      "text/plain": [
       "0.7624747379730235"
      ]
     },
     "execution_count": 20,
     "metadata": {},
     "output_type": "execute_result"
    }
   ],
   "source": [
    "norm.cdf(175, loc=mu, scale=sd)"
   ]
  },
  {
   "cell_type": "markdown",
   "id": "0167b9f7",
   "metadata": {},
   "source": [
    "<i>Approximately the 76th percentile</i>"
   ]
  }
 ],
 "metadata": {
  "kernelspec": {
   "display_name": "Python 3 (ipykernel)",
   "language": "python",
   "name": "python3"
  },
  "language_info": {
   "codemirror_mode": {
    "name": "ipython",
    "version": 3
   },
   "file_extension": ".py",
   "mimetype": "text/x-python",
   "name": "python",
   "nbconvert_exporter": "python",
   "pygments_lexer": "ipython3",
   "version": "3.9.12"
  }
 },
 "nbformat": 4,
 "nbformat_minor": 5
}
