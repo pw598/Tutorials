{
 "cells": [
  {
   "cell_type": "markdown",
   "id": "fe76ad7a",
   "metadata": {},
   "source": [
    "# Statistical Power Tests (Using Pingouin)"
   ]
  },
  {
   "cell_type": "markdown",
   "id": "07bb1325",
   "metadata": {},
   "source": [
    "Whereas an effect size quantifies teh size of an effect, statistical power quantifies the probability of detecting an effect if there is one to detect. It is the probability that a test will correctly reject a false null hypothesis, or more intuitively, the probability of accepting an alternative hypothesis when it is true. Low statistical power has a high risk of committing type II errors, and high statistical power lowers this risk.\n",
    "\n",
    "Statistical power, effect size, sample size, and significance are highly related; each is a piece in the same puzzle. A power analysis involves estimating one of these 4 parameters given hte 3 others, and answers questions like \"what size of sample should I use?\"\n",
    "\n",
    "As a practitioner, we can start with sensible defaults such as $\\alpha = 0.05$ and $power = 0.8$"
   ]
  },
  {
   "cell_type": "markdown",
   "id": "567575dd",
   "metadata": {},
   "source": [
    "## t-Test Power"
   ]
  },
  {
   "cell_type": "markdown",
   "id": "6a02969f",
   "metadata": {},
   "source": [
    "<p>For a paired t-test, n corresponds to the number of pairs. For an independent t-test with equal sample sizes, n corresponds to the number of pairs. For an independent t-test with equal sample sizes, n corresponds to the size of each group. If sample sizes are unequal, use the power_ttest2n function instead.</p>\n",
    "\n",
    "<p>The first step is to use Cohen's d to calculate the non-centrality parameter $\\delta$ and degree of freedom $\\nu$. In the case of paired groups, this is:</p>\n",
    "\n",
    "<p>$$\\delta = d * \\sqrt{n}$$</p>\n",
    "<p>$$\\nu = n - 1$$</p>\n",
    "\n",
    "<p>And in the case of independent groups with equal sample sizes:</p>\n",
    "\n",
    "<p>$$\\delta = d * \\sqrt{n}{2}$$</p>\n",
    "<p>$$\\nu = (n-1) * 2$$</p>\n",
    "\n",
    "<p>The critical value is then found using the PPF of the t-distribution with q = 1 and \\nu degrees of freedom. Finally the power of the test is given by the survival function of the non-central distribution using the previously calculated critical value, degree of freedom, and non-centrality parameter.</p>"
   ]
  },
  {
   "cell_type": "markdown",
   "id": "77058066",
   "metadata": {},
   "source": [
    "#### Parameters"
   ]
  },
  {
   "cell_type": "markdown",
   "id": "a8bb9f02",
   "metadata": {},
   "source": [
    "<table class=\"tableizer-table\">\n",
    "<thead><tr class=\"tableizer-firstrow\"><th style=\"text-align: left\">Function</th><th>Parameter</th><th style=\"text-align: left\">Type</th><th style=\"text-align: left\">Description</th></tr></thead><tbody>\n",
    " <tr><td style=\"text-align: left\">power_ttest</td><td style=\"text-align: left\">d</td><td style=\"text-align: left\">float</td><td style=\"text-align: left\">Cohen's d effect size</td></tr>\n",
    " <tr><td>&nbsp;</td><td style=\"text-align: left\">n</td><td style=\"text-align: left\">int</td><td style=\"text-align: left\">sample size (must be equal if two-sample test)</td></tr>\n",
    " <tr><td>&nbsp;</td><td style=\"text-align: left\">power</td><td style=\"text-align: left\">float</td><td style=\"text-align: left\">test power $1-\\beta$</td></tr>\n",
    " <tr><td>&nbsp;</td><td style=\"text-align: left\">alpha</td><td style=\"text-align: left\">float</td><td style=\"text-align: left\">significance level $\\alpha$</td></tr>\n",
    " <tr><td>&nbsp;</td><td style=\"text-align: left\">contrast</td><td style=\"text-align: left\">string</td><td style=\"text-align: left\">one-sample', 'two-samples' or 'paired'</td></tr>\n",
    " <tr><td>&nbsp;</td><td style=\"text-align: left\">alternative</td><td style=\"text-align: left\">string</td><td style=\"text-align: left\">'two-sided', 'greater', or 'less'</td></tr>\n",
    " <tr><td style=\"text-align: left\">returns:</td><td style=\"text-align: left\">varies</td><td style=\"text-align: left\">float or int</td><td style=\"text-align: left\">returns the parameter passed in as None (all else must be present)</td></tr>\n",
    "</tbody></table>"
   ]
  },
  {
   "cell_type": "markdown",
   "id": "3e5b985c",
   "metadata": {},
   "source": [
    "#### Power"
   ]
  },
  {
   "cell_type": "code",
   "execution_count": 3,
   "id": "e0eec2fb",
   "metadata": {},
   "outputs": [
    {
     "name": "stdout",
     "output_type": "stream",
     "text": [
      "power: 0.5645\n"
     ]
    }
   ],
   "source": [
    "from pingouin import power_ttest\n",
    "print('power: %.4f' % power_ttest(d=0.5, n=20, contrast='one-sample'))"
   ]
  },
  {
   "cell_type": "markdown",
   "id": "d8ff96e1",
   "metadata": {},
   "source": [
    "#### Sample Size"
   ]
  },
  {
   "cell_type": "code",
   "execution_count": 4,
   "id": "ab10ea2f",
   "metadata": {},
   "outputs": [
    {
     "name": "stdout",
     "output_type": "stream",
     "text": [
      "n: 50.1508\n"
     ]
    }
   ],
   "source": [
    "print('n: %.4f' % power_ttest(d=0.5, power=0.80, alternative='greater'))"
   ]
  },
  {
   "cell_type": "markdown",
   "id": "578b0eaa",
   "metadata": {},
   "source": [
    "#### Effect Size"
   ]
  },
  {
   "cell_type": "code",
   "execution_count": 5,
   "id": "145f66a0",
   "metadata": {},
   "outputs": [
    {
     "name": "stdout",
     "output_type": "stream",
     "text": [
      "d: 0.6604\n"
     ]
    }
   ],
   "source": [
    "print('d: %.4f' % power_ttest(n=20, power=0.80, alpha=0.05, contrast='paired'))"
   ]
  },
  {
   "cell_type": "markdown",
   "id": "c35344e6",
   "metadata": {},
   "source": [
    "#### Significance"
   ]
  },
  {
   "cell_type": "code",
   "execution_count": 6,
   "id": "06347613",
   "metadata": {},
   "outputs": [
    {
     "name": "stdout",
     "output_type": "stream",
     "text": [
      "alpha: 0.4430\n"
     ]
    }
   ],
   "source": [
    "print('alpha: %.4f' % power_ttest(d=0.5, n=20, power=0.80, alpha=None))"
   ]
  },
  {
   "cell_type": "markdown",
   "id": "18a9758a",
   "metadata": {},
   "source": [
    "#### Extra: One-Sided Tests"
   ]
  },
  {
   "cell_type": "code",
   "execution_count": 7,
   "id": "096936c3",
   "metadata": {},
   "outputs": [
    {
     "name": "stdout",
     "output_type": "stream",
     "text": [
      "power: 0.4634\n"
     ]
    }
   ],
   "source": [
    "from pingouin import power_ttest\n",
    "print('power: %.4f' % power_ttest(d=0.5, n=20, alternative='greater'))"
   ]
  },
  {
   "cell_type": "code",
   "execution_count": 8,
   "id": "bf3304b5",
   "metadata": {},
   "outputs": [
    {
     "name": "stdout",
     "output_type": "stream",
     "text": [
      "power: 0.0007\n"
     ]
    }
   ],
   "source": [
    "print('power: %.4f' % power_ttest(d=0.5, n=20, alternative='less'))"
   ]
  },
  {
   "cell_type": "markdown",
   "id": "2c7cc8aa",
   "metadata": {},
   "source": [
    "## Two-Samples t-Test Power"
   ]
  },
  {
   "cell_type": "markdown",
   "id": "c8a9b21f",
   "metadata": {},
   "source": [
    "<p>(For a t-test with unequal sample sizes)</p>\n",
    "\n",
    "<p>The first step is to use the Cohen's d to calclulate the non-centrality parameter $\\delta$ and degree of freedom $\\nu$. In this case of two independent groups with unequal sample sizes, this is:</p>\n",
    "\n",
    "<p>$$\\delta = d * \\sqrt{ \\frac{ n_1 * n_j }{ n_i + n_j } }$$</p>\n",
    "<p>$$\\nu = n_i + n_j - 2$$</p>\n",
    "\n",
    "<p>The critical value is then found using the PPF of the t-distribution with $q = 1 - alpha$ and $\\nu$ degree of freedom. Finally, the power of the test is given by survival function of the non-central distribution using the previously calculated critical value, degree of freedom, and non-centrality parameter.</p>"
   ]
  },
  {
   "cell_type": "markdown",
   "id": "d61ef8b1",
   "metadata": {},
   "source": [
    "#### Parameters"
   ]
  },
  {
   "cell_type": "markdown",
   "id": "7b6fdaed",
   "metadata": {},
   "source": [
    "<table class=\"tableizer-table\">\n",
    "<thead><tr class=\"tableizer-firstrow\"><th style=\"text-align: left\">Function</th><th style=\"text-align: left\">Parameter</th><th style=\"text-align: left\">Type</th><th style=\"text-align: left\">Description</th></tr></thead><tbody>\n",
    " <tr><td style=\"text-align: left\">power_ttest2n</td><td style=\"text-align: left\">nx, ny</td><td style=\"text-align: left\">int</td><td style=\"text-align: left\">sample sizes (if equal, use power_ttest function instead)</td></tr>\n",
    " <tr><td>&nbsp;</td><td style=\"text-align: left\">d</td><td style=\"text-align: left\">float</td><td style=\"text-align: left\">Cohen's d effect size</td></tr>\n",
    " <tr><td>&nbsp;</td><td style=\"text-align: left\">power</td><td style=\"text-align: left\">float</td><td style=\"text-align: left\">test power $1-\\beta$</td></tr>\n",
    " <tr><td>&nbsp;</td><td style=\"text-align: left\">alpha</td><td style=\"text-align: left\">float</td><td style=\"text-align: left\">significance level $\\alpha$</td></tr>\n",
    " <tr><td>&nbsp;</td><td style=\"text-align: left\">alternative</td><td style=\"text-align: left\">string</td><td style=\"text-align: left\">'two-sided', 'greater', or 'less'</td></tr>\n",
    " <tr><td style=\"text-align: left\">returns:</td><td style=\"text-align: left\">varies</td><td style=\"text-align: left\">float or int</td><td style=\"text-align: left\">returns the parameter passed in as None (all else must be present)</td></tr>\n",
    "</tbody></table>"
   ]
  },
  {
   "cell_type": "markdown",
   "id": "e07bcec0",
   "metadata": {},
   "source": [
    "#### Power"
   ]
  },
  {
   "cell_type": "code",
   "execution_count": 9,
   "id": "95fcc2b7",
   "metadata": {},
   "outputs": [
    {
     "name": "stdout",
     "output_type": "stream",
     "text": [
      "power: 0.4164\n"
     ]
    }
   ],
   "source": [
    "from pingouin import power_ttest2n\n",
    "print('power: %.4f' % power_ttest2n(nx=20, ny=15, d=0.5, alternative='greater'))"
   ]
  },
  {
   "cell_type": "markdown",
   "id": "baf00001",
   "metadata": {},
   "source": [
    "#### Effect Size"
   ]
  },
  {
   "cell_type": "code",
   "execution_count": 10,
   "id": "107016f6",
   "metadata": {},
   "outputs": [
    {
     "name": "stdout",
     "output_type": "stream",
     "text": [
      "d: 0.9859\n"
     ]
    }
   ],
   "source": [
    "print('d: %.4f' % power_ttest2n(nx=20, ny=15, power=0.80, alpha=0.05))"
   ]
  },
  {
   "cell_type": "markdown",
   "id": "776520df",
   "metadata": {},
   "source": [
    "#### Significance"
   ]
  },
  {
   "cell_type": "code",
   "execution_count": 11,
   "id": "b8720134",
   "metadata": {},
   "outputs": [
    {
     "name": "stdout",
     "output_type": "stream",
     "text": [
      "alpha: 0.5000\n"
     ]
    }
   ],
   "source": [
    "print('alpha: %.4f' % power_ttest2n(nx=20, ny=15, d=0.5, power=0.80, alpha=None))"
   ]
  },
  {
   "cell_type": "markdown",
   "id": "059e1f15",
   "metadata": {},
   "source": [
    "## Chi-Square Power"
   ]
  },
  {
   "cell_type": "markdown",
   "id": "634ec3c0",
   "metadata": {},
   "source": [
    "<p>The non-centrality parameter is defined by:</p>\n",
    "\n",
    "<p>$$\\delta = N * w^2$$</p>\n",
    "\n",
    "<p>where $w$ is the effect size, and N is sample size</p>\n",
    "\n",
    "<p>Then the critical value is computed using the PPF function of the \\chi^2 distribution with the $\\alpha$ level and degree of freedom</p>"
   ]
  },
  {
   "cell_type": "markdown",
   "id": "f1f52d3a",
   "metadata": {},
   "source": [
    "#### Parameters"
   ]
  },
  {
   "cell_type": "markdown",
   "id": "d568d6cd",
   "metadata": {},
   "source": [
    "<table class=\"tableizer-table\">\n",
    "<thead><tr class=\"tableizer-firstrow\"><th style=\"text-align: left\">Function</th><th style=\"text-align: left\">Parameter</th><th style=\"text-align: left\">Type</th><th style=\"text-align: left\">Description</th></tr></thead><tbody>\n",
    " <tr><td style=\"text-align: left\">power_chi2</td><td style=\"text-align: left\">dof</td><td style=\"text-align: left\">float</td><td style=\"text-align: left\">degree of freedom</td></tr>\n",
    " <tr><td>&nbsp;</td><td style=\"text-align: left\">w</td><td style=\"text-align: left\">float</td><td style=\"text-align: left\">effect size</td></tr>\n",
    " <tr><td>&nbsp;</td><td style=\"text-align: left\">n</td><td style=\"text-align: left\">int</td style=\"text-align: left\"><td style=\"text-align: left\">total number of observations</td></tr>\n",
    " <tr><td>&nbsp;</td><td style=\"text-align: left\">power</td><td style=\"text-align: left\">float</td><td style=\"text-align: left\">test power $1-\\beta$</td></tr>\n",
    " <tr><td>&nbsp;</td><td style=\"text-align: left\">alpha</td><td style=\"text-align: left\">float</td><td style=\"text-align: left\">significance level $\\alpha$</td></tr>\n",
    " <tr><td style=\"text-align: left\">returns:</td><td style=\"text-align: left\">varies</td><td style=\"text-align: left\">float or int</td><td style=\"text-align: left\">returns the parameter passed in as None (all else must be present)</td></tr>\n",
    "</tbody></table>"
   ]
  },
  {
   "cell_type": "markdown",
   "id": "0b13d82d",
   "metadata": {},
   "source": [
    "#### Power"
   ]
  },
  {
   "cell_type": "code",
   "execution_count": 12,
   "id": "3cc2e417",
   "metadata": {},
   "outputs": [
    {
     "name": "stdout",
     "output_type": "stream",
     "text": [
      "power: 0.2687\n"
     ]
    }
   ],
   "source": [
    "from pingouin import power_chi2\n",
    "print('power: %.4f' % power_chi2(dof=1, w=0.3, n=20))"
   ]
  },
  {
   "cell_type": "markdown",
   "id": "908cb735",
   "metadata": {},
   "source": [
    "#### Sample Size"
   ]
  },
  {
   "cell_type": "code",
   "execution_count": 13,
   "id": "9347c5d6",
   "metadata": {},
   "outputs": [
    {
     "name": "stdout",
     "output_type": "stream",
     "text": [
      "n: 121.1396\n"
     ]
    }
   ],
   "source": [
    "print('n: %.4f' % power_chi2(dof=3, w=0.3, power=0.80))"
   ]
  },
  {
   "cell_type": "markdown",
   "id": "22f2d9a2",
   "metadata": {},
   "source": [
    "#### Effect Size"
   ]
  },
  {
   "cell_type": "code",
   "execution_count": 14,
   "id": "b251d777",
   "metadata": {},
   "outputs": [
    {
     "name": "stdout",
     "output_type": "stream",
     "text": [
      "w: 0.6941\n"
     ]
    }
   ],
   "source": [
    "print('w: %.4f' % power_chi2(dof=2, n=20, power=0.80, alpha=0.05))"
   ]
  },
  {
   "cell_type": "markdown",
   "id": "4fe4609b",
   "metadata": {},
   "source": [
    "#### Significance"
   ]
  },
  {
   "cell_type": "code",
   "execution_count": 15,
   "id": "72f15569",
   "metadata": {},
   "outputs": [
    {
     "name": "stdout",
     "output_type": "stream",
     "text": [
      "alpha: 0.1630\n"
     ]
    }
   ],
   "source": [
    "print('alpha: %.4f' % power_chi2(dof=1, w=0.5, n=20, power=0.80, alpha=None))"
   ]
  },
  {
   "cell_type": "markdown",
   "id": "9e08c8a9",
   "metadata": {},
   "source": [
    "## Correlation Power"
   ]
  },
  {
   "cell_type": "code",
   "execution_count": 16,
   "id": "8d294878",
   "metadata": {},
   "outputs": [],
   "source": [
    "# Parameters"
   ]
  },
  {
   "cell_type": "markdown",
   "id": "c7ed6e32",
   "metadata": {},
   "source": [
    "<table class=\"tableizer-table\">\n",
    "<thead><tr class=\"tableizer-firstrow\"><th style=\"text-align: left\">Function</th><th style=\"text-align: left\">Parameter</th><th style=\"text-align: left\">Type</th><th style=\"text-align: left\">Description</th></tr></thead><tbody>\n",
    " <tr><td style=\"text-align: left\">power_corr</td><td style=\"text-align: left\">r</td><td style=\"text-align: left\">float</td><td style=\"text-align: left\">correlation coefficient</td></tr>\n",
    " <tr><td>&nbsp;</td><td style=\"text-align: left\">n</td><td style=\"text-align: left\">int</td><td style=\"text-align: left\">number of observations</td></tr>\n",
    " <tr><td>&nbsp;</td><td style=\"text-align: left\">power</td><td style=\"text-align: left\">float</td><td style=\"text-align: left\">test power $1-\\beta$</td></tr>\n",
    " <tr><td>&nbsp;</td><td style=\"text-align: left\">alpha</td><td style=\"text-align: left\">float</td><td style=\"text-align: left\">significance level $\\alpha$</td></tr>\n",
    " <tr><td>&nbsp;</td><td style=\"text-align: left\">alternative</td><td style=\"text-align: left\">string</td><td style=\"text-align: left\">'two-sided', 'greater', or 'less'</td></tr>\n",
    " <tr><td style=\"text-align: left\">returns:</td><td style=\"text-align: left\">varies</td><td style=\"text-align: left\">float or int</td><td style=\"text-align: left\">returns the parameter passed in as None (all else must be present)</td></tr>\n",
    "</tbody></table>"
   ]
  },
  {
   "cell_type": "markdown",
   "id": "509f6e0e",
   "metadata": {},
   "source": [
    "#### Power"
   ]
  },
  {
   "cell_type": "code",
   "execution_count": 17,
   "id": "6e258a2a",
   "metadata": {},
   "outputs": [
    {
     "name": "stdout",
     "output_type": "stream",
     "text": [
      "power: 0.6379\n"
     ]
    }
   ],
   "source": [
    "from pingouin import power_corr\n",
    "print('power: %.4f' % power_corr(r=0.5, n=20))"
   ]
  },
  {
   "cell_type": "markdown",
   "id": "0c080082",
   "metadata": {},
   "source": [
    "#### One-Sided Power"
   ]
  },
  {
   "cell_type": "code",
   "execution_count": 18,
   "id": "af841e40",
   "metadata": {},
   "outputs": [
    {
     "name": "stdout",
     "output_type": "stream",
     "text": [
      "power: 0.7510\n"
     ]
    }
   ],
   "source": [
    "print('power: %.4f' % power_corr(r=0.5, n=20, alternative=\"greater\"))"
   ]
  },
  {
   "cell_type": "code",
   "execution_count": 19,
   "id": "ef17a5ab",
   "metadata": {},
   "outputs": [
    {
     "name": "stdout",
     "output_type": "stream",
     "text": [
      "power: 0.0000\n"
     ]
    }
   ],
   "source": [
    "print('power: %.4f' % power_corr(r=0.5, n=20, alternative=\"less\"))"
   ]
  },
  {
   "cell_type": "markdown",
   "id": "45e2ef41",
   "metadata": {},
   "source": [
    "#### Sample Size"
   ]
  },
  {
   "cell_type": "code",
   "execution_count": 20,
   "id": "e6da1432",
   "metadata": {},
   "outputs": [
    {
     "name": "stdout",
     "output_type": "stream",
     "text": [
      "n: 28.2484\n"
     ]
    }
   ],
   "source": [
    "print('n: %.4f' % power_corr(r=0.5, power=0.80))"
   ]
  },
  {
   "cell_type": "markdown",
   "id": "02ef510f",
   "metadata": {},
   "source": [
    "#### Effect Size"
   ]
  },
  {
   "cell_type": "code",
   "execution_count": 21,
   "id": "814cd407",
   "metadata": {},
   "outputs": [
    {
     "name": "stdout",
     "output_type": "stream",
     "text": [
      "r: 0.5822\n"
     ]
    }
   ],
   "source": [
    "print('r: %.4f' % power_corr(n=20, power=0.80, alpha=0.05))"
   ]
  },
  {
   "cell_type": "markdown",
   "id": "ca906e1d",
   "metadata": {},
   "source": [
    "#### Significance"
   ]
  },
  {
   "cell_type": "code",
   "execution_count": 22,
   "id": "2e66adc8",
   "metadata": {},
   "outputs": [
    {
     "name": "stdout",
     "output_type": "stream",
     "text": [
      "alpha: 0.1377\n"
     ]
    }
   ],
   "source": [
    "print('alpha: %.4f' % power_corr(r=0.5, n=20, power=0.80, alpha=None))"
   ]
  },
  {
   "cell_type": "markdown",
   "id": "918944c8",
   "metadata": {},
   "source": [
    "## ANOVA Power"
   ]
  },
  {
   "cell_type": "markdown",
   "id": "87223192",
   "metadata": {},
   "source": [
    "<p>For a one-way ANOVA, eta-squared is the same as partial eta-squared, and can be evaluated from the F-value F* and degree of freedom of the ANOVA ($\\nu_1, \\nu_2$) using the following formula:</p>\n",
    "\n",
    "<p>$$\\eta^2 = \\frac{ \\nu_1 F\\text{*} }{ \\nu_1 F\\text{*} + \\nu_2 }$$</p>\n",
    "\n",
    "<p>The $f$ effect size, used by GPower, can be obtained from $eta^2$ as:</p>\n",
    "\n",
    "<p>$$f = \\sqrt{ \\frac{\\eta^2}{1 - \\eta^2} }$$</p>\n",
    "\n",
    "<p>and the reversal is:</p>\n",
    "\n",
    "<p>$$\\eta^2 = \\frac{f^2}{1 + f^2}$$</p>\n",
    "\n",
    "<p>Using $\\eta^2$ and total sample size N, the non-centrality parameter is defined by:</p>\n",
    "\n",
    "<p>$$\\delta = N \\frac{\\eta^2}{1 - \\eta^2}$$</p>\n",
    "\n",
    "<p>Then the critical value of the non-central F-distribution is computed using the PPF of the F-distribution where:</p>\n",
    "<p>$$q = 1 - \\alpha$$</p>\n",
    "<p>$$nu_1 = k - 1$$</p>\n",
    "<p>$$nu_2 = N - k$$</p>\n",
    "\n",
    "<p>where $k$ is the number of groups</p>\n",
    "\n",
    "<p>The power of ANOVA is calculated using the survival function of the non-central F-distribution using the previously computed critical value, non-centrality parameter, and degree of freedom.</p>"
   ]
  },
  {
   "cell_type": "markdown",
   "id": "0d7e6b82",
   "metadata": {},
   "source": [
    "#### Parameters"
   ]
  },
  {
   "cell_type": "markdown",
   "id": "a062f207",
   "metadata": {},
   "source": [
    "<table class=\"tableizer-table\">\n",
    "<thead><tr class=\"tableizer-firstrow\"><th style=\"text-align: left\">Function</th><th style=\"text-align: left\">Parameter</th><th style=\"text-align: left\">Type</th><th style=\"text-align: left\">Description</th></tr></thead><tbody>\n",
    " <tr><td style=\"text-align: left\">power_anova</td><td style=\"text-align: left\">eta_squared</td><td style=\"text-align: left\">float</td><td style=\"text-align: left\">ANOVA effect size $\\eta^2$</td></tr>\n",
    " <tr><td>&nbsp;</td><td style=\"text-align: left\">k</td><td style=\"text-align: left\">int</td><td style=\"text-align: left\">number of groups</td></tr>\n",
    " <tr><td>&nbsp;</td><td style=\"text-align: left\">n</td><td style=\"text-align: left\">int</td><td style=\"text-align: left\">sample size per group (must be equal)</td></tr>\n",
    " <tr><td>&nbsp;</td><td style=\"text-align: left\">power</td><td style=\"text-align: left\">float</td><td style=\"text-align: left\">test power $1-\\beta$</td></tr>\n",
    " <tr><td>&nbsp;</td><td style=\"text-align: left\">alpha</td><td style=\"text-align: left\">float</td><td style=\"text-align: left\">significance level $\\alpha$</td></tr>\n",
    " <tr><td style=\"text-align: left\">returns:</td><td style=\"text-align: left\">varies</td><td style=\"text-align: left\">float or int</td><td style=\"text-align: left\">returns the parameter passed in as None (all else must be present)</td></tr>\n",
    "</tbody></table>"
   ]
  },
  {
   "cell_type": "markdown",
   "id": "bd164da3",
   "metadata": {},
   "source": [
    "#### Power"
   ]
  },
  {
   "cell_type": "code",
   "execution_count": 23,
   "id": "c9ed29ae",
   "metadata": {},
   "outputs": [
    {
     "name": "stdout",
     "output_type": "stream",
     "text": [
      "power: 0.6082\n"
     ]
    }
   ],
   "source": [
    "from pingouin import power_anova\n",
    "print('power: %.4f' % power_anova(eta_squared=0.1, k=3, n=20))"
   ]
  },
  {
   "cell_type": "markdown",
   "id": "5e350d97",
   "metadata": {},
   "source": [
    "#### Number of Groups"
   ]
  },
  {
   "cell_type": "code",
   "execution_count": 24,
   "id": "10a14d69",
   "metadata": {},
   "outputs": [
    {
     "name": "stdout",
     "output_type": "stream",
     "text": [
      "k: 6.0944\n"
     ]
    }
   ],
   "source": [
    "print('k: %.4f' % power_anova(eta_squared=0.1, n=20, power=0.80))"
   ]
  },
  {
   "cell_type": "markdown",
   "id": "cb3b5a9b",
   "metadata": {},
   "source": [
    "#### Sample Size"
   ]
  },
  {
   "cell_type": "code",
   "execution_count": 25,
   "id": "f3a2f9df",
   "metadata": {},
   "outputs": [
    {
     "name": "stdout",
     "output_type": "stream",
     "text": [
      "n: 29.9255\n"
     ]
    }
   ],
   "source": [
    "print('n: %.4f' % power_anova(eta_squared=0.1, k=3, power=0.80))"
   ]
  },
  {
   "cell_type": "markdown",
   "id": "15c4ea28",
   "metadata": {},
   "source": [
    "#### Effect Size"
   ]
  },
  {
   "cell_type": "code",
   "execution_count": 26,
   "id": "bede3ad1",
   "metadata": {},
   "outputs": [
    {
     "name": "stdout",
     "output_type": "stream",
     "text": [
      "eta-squared: 0.1255\n"
     ]
    }
   ],
   "source": [
    "print('eta-squared: %.4f' % power_anova(n=20, k=4, power=0.80, alpha=0.05))"
   ]
  },
  {
   "cell_type": "markdown",
   "id": "c27858c0",
   "metadata": {},
   "source": [
    "#### Significance"
   ]
  },
  {
   "cell_type": "code",
   "execution_count": 27,
   "id": "e4c6dc1c",
   "metadata": {},
   "outputs": [
    {
     "name": "stdout",
     "output_type": "stream",
     "text": [
      "alpha: 0.1085\n"
     ]
    }
   ],
   "source": [
    "print('alpha: %.4f' % power_anova(eta_squared=0.1, n=20, k=4, power=0.80, alpha=None))"
   ]
  },
  {
   "cell_type": "markdown",
   "id": "46e745f8",
   "metadata": {},
   "source": [
    "## rmANOVA Power"
   ]
  },
  {
   "cell_type": "markdown",
   "id": "8d7d521b",
   "metadata": {},
   "source": [
    "#### Parameters"
   ]
  },
  {
   "cell_type": "markdown",
   "id": "248a78ad",
   "metadata": {},
   "source": [
    "<table class=\"tableizer-table\">\n",
    "<thead><tr class=\"tableizer-firstrow\"><th style=\"text-align: left\">Function</th><th style=\"text-align: left\">Parameter</th><th style=\"text-align: left\">Type</th><th style=\"text-align: left\">Description</th></tr></thead><tbody>\n",
    " <tr><td style=\"text-align: left\">power_rm_anova</td><td style=\"text-align: left\">eta_squared</td><td style=\"text-align: left\">float</td><td style=\"text-align: left\">ANOVA effect size $\\eta^2$</td></tr>\n",
    " <tr><td>&nbsp;</td><td style=\"text-align: left\">m</td><td style=\"text-align: left\">int</td><td style=\"text-align: left\">number of repeated measurements</td></tr>\n",
    " <tr><td>&nbsp;</td><td style=\"text-align: left\">n</td><td style=\"text-align: left\">int</td><td style=\"text-align: left\">sample size per measurement (must be equal)</td></tr>\n",
    " <tr><td>&nbsp;</td><td style=\"text-align: left\">power</td><td style=\"text-align: left\">float</td><td style=\"text-align: left\">test power $1-\\beta$</td></tr>\n",
    " <tr><td>&nbsp;</td><td style=\"text-align: left\">alpha</td><td style=\"text-align: left\">float</td><td style=\"text-align: left\">significance level $\\alpha$</td></tr>\n",
    " <tr><td>&nbsp;</td><td style=\"text-align: left\">corr</td><td style=\"text-align: left\">float</td><td style=\"text-align: left\">average correlation coefficient among repeated measurements (default 0.5)</td></tr>\n",
    " <tr><td>&nbsp;</td><td style=\"text-align: left\">epsilon</td><td style=\"text-align: left\">float</td><td style=\"text-align: left\">adjustment for sphericity</td></tr>\n",
    " <tr><td style=\"text-align: left\">returns:</td><td style=\"text-align: left\">varies</td><td style=\"text-align: left\">float or int</td><td style=\"text-align: left\">returns the parameter passed in as None (all else must be present)</td></tr>\n",
    "</tbody></table>"
   ]
  },
  {
   "cell_type": "markdown",
   "id": "78086682",
   "metadata": {},
   "source": [
    "#### Power"
   ]
  },
  {
   "cell_type": "code",
   "execution_count": 28,
   "id": "9b7f4d1f",
   "metadata": {},
   "outputs": [
    {
     "name": "stdout",
     "output_type": "stream",
     "text": [
      "power: 0.8913\n"
     ]
    }
   ],
   "source": [
    "from pingouin import power_rm_anova\n",
    "print('power: %.4f' % power_rm_anova(eta_squared=0.1, m=3, n=20))"
   ]
  },
  {
   "cell_type": "markdown",
   "id": "6e8d49f7",
   "metadata": {},
   "source": [
    "#### Number of Groups"
   ]
  },
  {
   "cell_type": "code",
   "execution_count": 29,
   "id": "f44d135c",
   "metadata": {},
   "outputs": [
    {
     "name": "stdout",
     "output_type": "stream",
     "text": [
      "m: 3.1347\n"
     ]
    }
   ],
   "source": [
    "print('m: %.4f' % power_rm_anova(eta_squared=0.1, n=20, power=0.90))"
   ]
  },
  {
   "cell_type": "markdown",
   "id": "de46c3b5",
   "metadata": {},
   "source": [
    "#### Sample Size"
   ]
  },
  {
   "cell_type": "code",
   "execution_count": 30,
   "id": "26f14707",
   "metadata": {},
   "outputs": [
    {
     "name": "stdout",
     "output_type": "stream",
     "text": [
      "n: 15.9979\n"
     ]
    }
   ],
   "source": [
    "print('n: %.4f' % power_rm_anova(eta_squared=0.1, m=3, power=0.80))"
   ]
  },
  {
   "cell_type": "markdown",
   "id": "66c867ae",
   "metadata": {},
   "source": [
    "#### Effect Size"
   ]
  },
  {
   "cell_type": "code",
   "execution_count": 31,
   "id": "9461377a",
   "metadata": {},
   "outputs": [
    {
     "name": "stdout",
     "output_type": "stream",
     "text": [
      "eta-squared: 0.0680\n"
     ]
    }
   ],
   "source": [
    "print('eta-squared: %.4f' % power_rm_anova(n=20, m=4, power=0.80, alpha=0.05))"
   ]
  },
  {
   "cell_type": "markdown",
   "id": "05f4e313",
   "metadata": {},
   "source": [
    "#### Significance"
   ]
  },
  {
   "cell_type": "code",
   "execution_count": 32,
   "id": "3b3602fa",
   "metadata": {},
   "outputs": [
    {
     "name": "stdout",
     "output_type": "stream",
     "text": [
      "alpha: 0.0081\n"
     ]
    }
   ],
   "source": [
    "print('alpha: %.4f' % power_rm_anova(eta_squared=0.1, n=20, m=4, power=0.80, alpha=None))"
   ]
  },
  {
   "cell_type": "markdown",
   "id": "a938eab8",
   "metadata": {},
   "source": [
    "#### Bonus Example"
   ]
  },
  {
   "cell_type": "code",
   "execution_count": 33,
   "id": "ad46777e",
   "metadata": {},
   "outputs": [
    {
     "data": {
      "text/html": [
       "<div>\n",
       "<style scoped>\n",
       "    .dataframe tbody tr th:only-of-type {\n",
       "        vertical-align: middle;\n",
       "    }\n",
       "\n",
       "    .dataframe tbody tr th {\n",
       "        vertical-align: top;\n",
       "    }\n",
       "\n",
       "    .dataframe thead th {\n",
       "        text-align: right;\n",
       "    }\n",
       "</style>\n",
       "<table border=\"1\" class=\"dataframe\">\n",
       "  <thead>\n",
       "    <tr style=\"text-align: right;\">\n",
       "      <th></th>\n",
       "      <th>Before</th>\n",
       "      <th>1 week</th>\n",
       "      <th>2 week</th>\n",
       "      <th>3 week</th>\n",
       "    </tr>\n",
       "  </thead>\n",
       "  <tbody>\n",
       "    <tr>\n",
       "      <th>0</th>\n",
       "      <td>4.3</td>\n",
       "      <td>5.3</td>\n",
       "      <td>4.8</td>\n",
       "      <td>6.3</td>\n",
       "    </tr>\n",
       "    <tr>\n",
       "      <th>1</th>\n",
       "      <td>3.9</td>\n",
       "      <td>2.3</td>\n",
       "      <td>5.6</td>\n",
       "      <td>4.3</td>\n",
       "    </tr>\n",
       "    <tr>\n",
       "      <th>2</th>\n",
       "      <td>4.5</td>\n",
       "      <td>2.6</td>\n",
       "      <td>4.1</td>\n",
       "      <td>NaN</td>\n",
       "    </tr>\n",
       "    <tr>\n",
       "      <th>3</th>\n",
       "      <td>5.1</td>\n",
       "      <td>4.2</td>\n",
       "      <td>6.0</td>\n",
       "      <td>6.3</td>\n",
       "    </tr>\n",
       "    <tr>\n",
       "      <th>4</th>\n",
       "      <td>3.8</td>\n",
       "      <td>3.6</td>\n",
       "      <td>4.8</td>\n",
       "      <td>6.8</td>\n",
       "    </tr>\n",
       "  </tbody>\n",
       "</table>\n",
       "</div>"
      ],
      "text/plain": [
       "   Before  1 week  2 week  3 week\n",
       "0     4.3     5.3     4.8     6.3\n",
       "1     3.9     2.3     5.6     4.3\n",
       "2     4.5     2.6     4.1     NaN\n",
       "3     5.1     4.2     6.0     6.3\n",
       "4     3.8     3.6     4.8     6.8"
      ]
     },
     "execution_count": 33,
     "metadata": {},
     "output_type": "execute_result"
    }
   ],
   "source": [
    "import pingouin as pg\n",
    "data = pg.read_dataset('rm_anova_wide')\n",
    "data.head()"
   ]
  },
  {
   "cell_type": "code",
   "execution_count": 34,
   "id": "52f2bb55",
   "metadata": {},
   "outputs": [
    {
     "data": {
      "text/html": [
       "<div>\n",
       "<style scoped>\n",
       "    .dataframe tbody tr th:only-of-type {\n",
       "        vertical-align: middle;\n",
       "    }\n",
       "\n",
       "    .dataframe tbody tr th {\n",
       "        vertical-align: top;\n",
       "    }\n",
       "\n",
       "    .dataframe thead th {\n",
       "        text-align: right;\n",
       "    }\n",
       "</style>\n",
       "<table border=\"1\" class=\"dataframe\">\n",
       "  <thead>\n",
       "    <tr style=\"text-align: right;\">\n",
       "      <th></th>\n",
       "      <th>Source</th>\n",
       "      <th>ddof1</th>\n",
       "      <th>ddof2</th>\n",
       "      <th>F</th>\n",
       "      <th>p-unc</th>\n",
       "      <th>n2</th>\n",
       "      <th>eps</th>\n",
       "    </tr>\n",
       "  </thead>\n",
       "  <tbody>\n",
       "    <tr>\n",
       "      <th>0</th>\n",
       "      <td>Within</td>\n",
       "      <td>3</td>\n",
       "      <td>24</td>\n",
       "      <td>5.201</td>\n",
       "      <td>0.007</td>\n",
       "      <td>0.346</td>\n",
       "      <td>0.694</td>\n",
       "    </tr>\n",
       "  </tbody>\n",
       "</table>\n",
       "</div>"
      ],
      "text/plain": [
       "   Source  ddof1  ddof2      F  p-unc     n2    eps\n",
       "0  Within      3     24  5.201  0.007  0.346  0.694"
      ]
     },
     "execution_count": 34,
     "metadata": {},
     "output_type": "execute_result"
    }
   ],
   "source": [
    "data = data.dropna()\n",
    "pg.rm_anova(data, effsize=\"n2\").round(3)"
   ]
  },
  {
   "cell_type": "code",
   "execution_count": 35,
   "id": "525024f3",
   "metadata": {},
   "outputs": [
    {
     "data": {
      "text/plain": [
       "0.99"
      ]
     },
     "execution_count": 35,
     "metadata": {},
     "output_type": "execute_result"
    }
   ],
   "source": [
    "n, m = data.shape\n",
    "round(pg.power_rm_anova(eta_squared=0.346, m=m, n=n, epsilon=0.694), 3)"
   ]
  },
  {
   "cell_type": "code",
   "execution_count": 36,
   "id": "6b209ffe",
   "metadata": {},
   "outputs": [
    {
     "data": {
      "text/plain": [
       "-0.1996"
      ]
     },
     "execution_count": 36,
     "metadata": {},
     "output_type": "execute_result"
    }
   ],
   "source": [
    "import numpy as np\n",
    "corr = np.diag(data.corr(), k=1)\n",
    "avgcorr = np.tanh(np.arctanh(corr).mean())\n",
    "round(avgcorr, 4)"
   ]
  },
  {
   "cell_type": "code",
   "execution_count": 37,
   "id": "3a6c0287",
   "metadata": {},
   "outputs": [
    {
     "data": {
      "text/plain": [
       "0.771"
      ]
     },
     "execution_count": 37,
     "metadata": {},
     "output_type": "execute_result"
    }
   ],
   "source": [
    "round(pg.power_rm_anova(eta_squared=0.346, m=m, n=n, epsilon=0.694, corr=avgcorr), 3)"
   ]
  }
 ],
 "metadata": {
  "kernelspec": {
   "display_name": "Python 3 (ipykernel)",
   "language": "python",
   "name": "python3"
  },
  "language_info": {
   "codemirror_mode": {
    "name": "ipython",
    "version": 3
   },
   "file_extension": ".py",
   "mimetype": "text/x-python",
   "name": "python",
   "nbconvert_exporter": "python",
   "pygments_lexer": "ipython3",
   "version": "3.9.12"
  }
 },
 "nbformat": 4,
 "nbformat_minor": 5
}
