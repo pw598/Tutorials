{
 "cells": [
  {
   "cell_type": "markdown",
   "id": "001ac0c5",
   "metadata": {},
   "source": [
    "# Measures of Variability"
   ]
  },
  {
   "cell_type": "markdown",
   "id": "80b6c8be",
   "metadata": {},
   "source": [
    "Measures of spread and shape ask how much variability exists in the values of a dataset. The range is the distance from minimum to maximum, and as touched upon in the last workbook, the interquartile range is the distance from the 25th to 75th percentile. Outliers describe whether there are extreme values far away from the mode(s), and distribution tails describe how quickly probabilities drop off as we move away from the modes."
   ]
  },
  {
   "cell_type": "markdown",
   "id": "12c2a9a3",
   "metadata": {},
   "source": [
    "## Variance"
   ]
  },
  {
   "cell_type": "markdown",
   "id": "3debbaf3",
   "metadata": {},
   "source": [
    "Variance, denoted by sigma-squared ($\\sigma^2$) in a population and $s^2$ in a sample, summarizes the variability of the dataset. It describes how much a random variable deviates from its mean, in squared units representing the average squared difference from the mean.\n",
    "\n",
    "$$\\sigma^2 = \\frac{ \\sum(x - \\mu)^2 }{ n }$$\n",
    "\n",
    "$$s^2 = \\frac{(x - \\bar{x})^2}{n-1}$$\n",
    "\n",
    "<ul>\n",
    "    <li>$x$ is the value of an instance in the dataset</li>\n",
    "    <li>$\\bar{x}$ is the average value</li>\n",
    "    <li>$n$ is the number of observations</li>\n",
    "</ul>\n",
    "\n",
    "Squaring removes the effect of differences from the mean being both positive and negative, and results in treating greater differences with greater penalty."
   ]
  },
  {
   "cell_type": "markdown",
   "id": "6a32dc40",
   "metadata": {},
   "source": [
    "Let's import some libraries to work with, and add a chart style:"
   ]
  },
  {
   "cell_type": "code",
   "execution_count": 1,
   "id": "935ce6e6",
   "metadata": {},
   "outputs": [],
   "source": [
    "from math import sqrt\n",
    "import numpy as np\n",
    "import matplotlib.pyplot as plt\n",
    "plt.style.use('seaborn-darkgrid')"
   ]
  },
  {
   "cell_type": "markdown",
   "id": "70d82d8f",
   "metadata": {},
   "source": [
    "And then generate some normally distributed data:"
   ]
  },
  {
   "cell_type": "code",
   "execution_count": 2,
   "id": "bb0e8296",
   "metadata": {},
   "outputs": [],
   "source": [
    "from scipy.stats import norm\n",
    "mu = 0\n",
    "sd = 1\n",
    "data = norm.rvs(loc=mu, scale=sd, size=300, random_state=123)"
   ]
  },
  {
   "cell_type": "code",
   "execution_count": 3,
   "id": "83d06231",
   "metadata": {
    "scrolled": true
   },
   "outputs": [
    {
     "data": {
      "image/png": "[encoded data removed]",
      "text/plain": [
       "<Figure size 432x288 with 1 Axes>"
      ]
     },
     "metadata": {},
     "output_type": "display_data"
    }
   ],
   "source": [
    "plt.hist(data);"
   ]
  },
  {
   "cell_type": "markdown",
   "id": "fbbd9301",
   "metadata": {},
   "source": [
    "And then calculate the variance:"
   ]
  },
  {
   "cell_type": "code",
   "execution_count": 4,
   "id": "56707eb9",
   "metadata": {},
   "outputs": [
    {
     "data": {
      "text/plain": [
       "1.053795568707424"
      ]
     },
     "execution_count": 4,
     "metadata": {},
     "output_type": "execute_result"
    }
   ],
   "source": [
    "# Calculate variance using built-in function\n",
    "data.var()\n",
    "np.var(data)"
   ]
  },
  {
   "cell_type": "markdown",
   "id": "baea6feb",
   "metadata": {},
   "source": [
    "But are we looking at population variance or sample variance? One way to tell is to check the user guide, another way is to create the functions from scratch and see what matches."
   ]
  },
  {
   "cell_type": "code",
   "execution_count": 5,
   "id": "4ea6ac29",
   "metadata": {},
   "outputs": [],
   "source": [
    "def variance(dta, scope='pop'):\n",
    "    n = len(dta)\n",
    "    mean = sum(dta) / n\n",
    "    deviations = [(data - mean) ** 2 for data in dta]\n",
    "    if scope == 'pop':\n",
    "        variance = sum(deviations) / n\n",
    "    else:\n",
    "        variance = sum(deviations) / (n-1)\n",
    "    return variance"
   ]
  },
  {
   "cell_type": "code",
   "execution_count": 6,
   "id": "de100074",
   "metadata": {},
   "outputs": [
    {
     "name": "stdout",
     "output_type": "stream",
     "text": [
      "Pop Variance:  1.0537955687074239\n",
      "Sample Variance:  1.0573199686027663\n"
     ]
    }
   ],
   "source": [
    "print('Pop Variance: ', variance(data, 'pop'))\n",
    "print('Sample Variance: ', variance(data, 'sample'))"
   ]
  },
  {
   "cell_type": "markdown",
   "id": "7a2b8659",
   "metadata": {},
   "source": [
    "Notice that it is the population variance that matches the default of the built-in function. Notice as well that the difference between population variance and sample variance seems quite small. This is a result of the sample size being relatively large (n=300). A denominator of n-1 (i.e., 299) in this case makes little difference vs. a denominator of 300. Let's try with a smaller dataset, say 30 points."
   ]
  },
  {
   "cell_type": "code",
   "execution_count": 7,
   "id": "6fd5e1f8",
   "metadata": {},
   "outputs": [
    {
     "name": "stdout",
     "output_type": "stream",
     "text": [
      "Pop Variance:  1.3624637354821543\n",
      "Sample Variance:  1.4094452436022284\n"
     ]
    }
   ],
   "source": [
    "mu = 0\n",
    "sd = 1\n",
    "n30_data = norm.rvs(loc=mu, scale=sd, size=30, random_state=123)\n",
    "print('Pop Variance: ', variance(n30_data, 'pop'))\n",
    "print('Sample Variance: ', variance(n30_data, 'sample'))"
   ]
  },
  {
   "cell_type": "markdown",
   "id": "642ce50e",
   "metadata": {},
   "source": [
    "A denominator of 29 vs. a denominator of 30 makes about 3.33% difference, and the difference between the result of the population-variance calculation and the sample-variance calculation is noticably larger."
   ]
  },
  {
   "cell_type": "markdown",
   "id": "79aaf71f",
   "metadata": {},
   "source": [
    "## Standard Deviation"
   ]
  },
  {
   "cell_type": "markdown",
   "id": "872bc069",
   "metadata": {},
   "source": [
    "Standard deviation, $\\sigma$ or $s$, is the square root of variance, which unlike variance, has the advantage of being in the scale of the original data. It represents what is called the harmonic mean of the differences from the mean of the dataset.\n",
    "\n",
    "You may have already considered that calculating this simply involves taking the square root of our variance formula."
   ]
  },
  {
   "cell_type": "code",
   "execution_count": 8,
   "id": "df4537fc",
   "metadata": {},
   "outputs": [
    {
     "name": "stdout",
     "output_type": "stream",
     "text": [
      "Pop Standard Deviation:  1.0265454537951175\n",
      "Sample Standard Deviation:  1.0282606520735715\n"
     ]
    }
   ],
   "source": [
    "print('Pop Standard Deviation: ', sqrt(variance(data, 'pop')))\n",
    "print('Sample Standard Deviation: ', sqrt(variance(data, 'samp')))"
   ]
  },
  {
   "cell_type": "markdown",
   "id": "ee5dfd99",
   "metadata": {},
   "source": [
    "Though we could also write a function for it specifically:"
   ]
  },
  {
   "cell_type": "code",
   "execution_count": 9,
   "id": "0e082bf7",
   "metadata": {
    "scrolled": true
   },
   "outputs": [
    {
     "name": "stdout",
     "output_type": "stream",
     "text": [
      "Pop Standard Deviation:  1.0265454537951175\n",
      "Sample Standard Deviation:  1.0282606520735715\n"
     ]
    }
   ],
   "source": [
    "def std_dev(dta, scope='pop'):\n",
    "    n = len(dta)\n",
    "    mean = sum(dta) / n\n",
    "    deviations = [(data - mean) ** 2 for data in dta]\n",
    "    if scope == 'pop':\n",
    "        stdev = sqrt( sum(deviations) / n )\n",
    "    else:\n",
    "        stdev = sqrt( sum(deviations) / (n-1) )\n",
    "    return stdev\n",
    "\n",
    "print('Pop Standard Deviation: ', std_dev(data, 'pop'))\n",
    "print('Sample Standard Deviation: ', std_dev(data, 'samp'))"
   ]
  },
  {
   "cell_type": "markdown",
   "id": "b2ee655b",
   "metadata": {},
   "source": [
    "Or call upon the built-in function (there are implementations in various libraries as well)"
   ]
  },
  {
   "cell_type": "code",
   "execution_count": 10,
   "id": "9f9f63e2",
   "metadata": {},
   "outputs": [
    {
     "data": {
      "text/plain": [
       "1.0265454537951177"
      ]
     },
     "execution_count": 10,
     "metadata": {},
     "output_type": "execute_result"
    }
   ],
   "source": [
    "data.std()"
   ]
  },
  {
   "cell_type": "markdown",
   "id": "e2d765c9",
   "metadata": {},
   "source": [
    "Again, it defaults to using the population-based variance calculation, with $n$ rather than $n-1$ in the denominator."
   ]
  },
  {
   "cell_type": "markdown",
   "id": "59ad57da",
   "metadata": {},
   "source": [
    "## Coefficient of Variation"
   ]
  },
  {
   "cell_type": "markdown",
   "id": "8966585f",
   "metadata": {},
   "source": [
    "What if we want to compare the variability of two datasets that are on different scales? This is where the coefficient of variation comes into play.\n",
    "\n",
    "The Coefficient of Variation is a ratio of the standard deviation to the mean. Sometimes it is computed as a percentage. It is a standardized measurement for $\\sigma$ amongst the two datasets, whereas the statistic would otherwise be incomparable.\n",
    "\n",
    "$$CV = \\frac{100(\\sigma)}{M}$$"
   ]
  },
  {
   "cell_type": "code",
   "execution_count": 11,
   "id": "bd64c664",
   "metadata": {},
   "outputs": [
    {
     "name": "stdout",
     "output_type": "stream",
     "text": [
      "CV 1:  3.3333333333333335\n",
      "CV 2:  7.5\n"
     ]
    }
   ],
   "source": [
    "mu1 = 30\n",
    "sd1 = 1\n",
    "\n",
    "mu2 = 80\n",
    "sd2 = 6\n",
    "\n",
    "cv1 = 100 * sd1 / mu1\n",
    "cv2 = 100 * sd2 / mu2\n",
    "\n",
    "print('CV 1: ', cv1)\n",
    "print('CV 2: ', cv2)"
   ]
  },
  {
   "cell_type": "markdown",
   "id": "3aef9779",
   "metadata": {},
   "source": [
    "The second distribution has a greater variance proportional to the magnitude of its mean"
   ]
  },
  {
   "cell_type": "markdown",
   "id": "6ebf2273",
   "metadata": {},
   "source": [
    "## Standard Error"
   ]
  },
  {
   "cell_type": "markdown",
   "id": "9f14bb60",
   "metadata": {},
   "source": [
    "<b>Standard Error (SE)</b>, $\\frac{\\sigma}{\\sqrt{n}}$ is the standard deviation reduced by a factor equal to the square root of the number of observations. You can see that greater sample sizes will yield lower standard error by increasing the value of the denominator."
   ]
  },
  {
   "cell_type": "code",
   "execution_count": 12,
   "id": "980e0960",
   "metadata": {},
   "outputs": [
    {
     "name": "stdout",
     "output_type": "stream",
     "text": [
      "Standard Error:  0.059267629408399775\n"
     ]
    }
   ],
   "source": [
    "mu = np.mean(data)\n",
    "sd = np.std(data)\n",
    "se = sd / sqrt(len(data))\n",
    "print('Standard Error: ', se)"
   ]
  },
  {
   "cell_type": "markdown",
   "id": "fc7ef97f",
   "metadata": {},
   "source": [
    "# Measures of Variability Between Two Data Sets"
   ]
  },
  {
   "cell_type": "markdown",
   "id": "a3a548ab",
   "metadata": {},
   "source": [
    "This next group of metrics - MSE, RMSE, and MAD, are often used when comparing two datasets - particularly in the context of predictions vs. observations... so I will generate two sets of simulated data, and call one set the actuals and the other predictions."
   ]
  },
  {
   "cell_type": "markdown",
   "id": "57df26b7",
   "metadata": {},
   "source": [
    "## MSE"
   ]
  },
  {
   "cell_type": "code",
   "execution_count": 13,
   "id": "c7838190",
   "metadata": {},
   "outputs": [],
   "source": [
    "sim_actuals = norm.rvs(loc=1, scale=2, size=300, random_state=123)\n",
    "sim_predictions = norm.rvs(loc=1.5, scale=2, size=300, random_state=123)"
   ]
  },
  {
   "cell_type": "markdown",
   "id": "55cc7d6d",
   "metadata": {},
   "source": [
    "Mean squared error is the average of the difference between the actual and predicted values squared.\n",
    "\n",
    "$$MSE = \\frac{1}{n} \\sum_{i=1}^n(\\hat{y}_i - y_i)^2$$\n",
    "\n",
    "One library from which it may be imported as a function is sklearn.metrics"
   ]
  },
  {
   "cell_type": "code",
   "execution_count": 14,
   "id": "3258ba7f",
   "metadata": {
    "scrolled": true
   },
   "outputs": [
    {
     "data": {
      "text/plain": [
       "0.25"
      ]
     },
     "execution_count": 14,
     "metadata": {},
     "output_type": "execute_result"
    }
   ],
   "source": [
    "from sklearn.metrics import mean_squared_error\n",
    "mean_squared_error(sim_actuals, sim_predictions)"
   ]
  },
  {
   "cell_type": "markdown",
   "id": "cd3c26f2",
   "metadata": {},
   "source": [
    "But it also is easy to create from scratch"
   ]
  },
  {
   "cell_type": "code",
   "execution_count": 15,
   "id": "0d11c744",
   "metadata": {},
   "outputs": [
    {
     "data": {
      "text/plain": [
       "0.25"
      ]
     },
     "execution_count": 15,
     "metadata": {},
     "output_type": "execute_result"
    }
   ],
   "source": [
    "def mse(actual, pred): \n",
    "    actual, pred = actual, pred\n",
    "    return (actual - pred).mean()**2\n",
    "\n",
    "mse(sim_actuals, sim_predictions)"
   ]
  },
  {
   "cell_type": "markdown",
   "id": "c581a023",
   "metadata": {},
   "source": [
    "## RMSE"
   ]
  },
  {
   "cell_type": "markdown",
   "id": "4c17862e",
   "metadata": {},
   "source": [
    "Root Mean Squared Error (RMSE) tells you on average how far predictions are from the actuals, and is the defined as standard the deviation of the residuals. It is the square root of the squared residuals, divided by the number of observations.\n",
    "\n",
    "$$RMSE = \\sqrt{ \\frac{1}{n} \\sum(\\hat{y}_i - y_i)^2 }$$"
   ]
  },
  {
   "cell_type": "code",
   "execution_count": 18,
   "id": "202ddfde",
   "metadata": {
    "scrolled": true
   },
   "outputs": [
    {
     "data": {
      "text/plain": [
       "0.5"
      ]
     },
     "execution_count": 18,
     "metadata": {},
     "output_type": "execute_result"
    }
   ],
   "source": [
    "def rmse(actual, pred):\n",
    "    return(sqrt(mean_squared_error(actual, pred)))\n",
    "\n",
    "rmse(sim_actuals, sim_predictions)"
   ]
  },
  {
   "cell_type": "markdown",
   "id": "f9b72062",
   "metadata": {},
   "source": [
    "As you can see, this is just calculated as the square root of mean squared error (MSE). Square-rooting either of our above versions of the MSE function will have the same result."
   ]
  },
  {
   "cell_type": "markdown",
   "id": "0c08f1fd",
   "metadata": {},
   "source": [
    "## MAD"
   ]
  },
  {
   "cell_type": "markdown",
   "id": "8426aa89",
   "metadata": {},
   "source": [
    "<b>Mean (or Median) Absolute Deviation (MAD)</b> is perhaps more intuitive, particularly for beginners, as it does not involve squaring deviations, but rather averaging their absolute values.\n",
    "\n",
    "$$MAD = \\frac{1}{n} \\sum_{i=1}^n |\\hat{y}_i - y_i|$$"
   ]
  },
  {
   "cell_type": "markdown",
   "id": "d05efb67",
   "metadata": {},
   "source": [
    "## Bonus: Skewness and Kurtosis"
   ]
  },
  {
   "cell_type": "markdown",
   "id": "dc5087ae",
   "metadata": {},
   "source": [
    "Perhaps it's a little unorthodox to now jump back in to measures of the spread of a distribution; but the below two metrics seem less-common than the above, though they have an interesting interpretation.\n",
    "\n",
    "Mean and variance are considered the 1st and 2nd statistical 'moments', reflecting the raise of a distribution function to the power of 1 and 2, respectively.\n",
    "\n",
    "<b>Skewness and Kurtosis</b> are the 3rd and 4th statistical moments, and speak toward the shape of the distribution, raising its function to the powers of 3 and 4 respectively."
   ]
  },
  {
   "cell_type": "markdown",
   "id": "fedefc9d",
   "metadata": {},
   "source": [
    "### Skewness"
   ]
  },
  {
   "cell_type": "markdown",
   "id": "414b98a1",
   "metadata": {},
   "source": [
    "Skewness values greater than zero suggest multimodal distribution to the left, meaning a long tail on the right, and vice versa for values less than zero\n",
    "\n",
    "$$Skewness = \\frac{n}{(n-1)(n-2)} \\sum \\left( \\frac{x_i - \\bar{x}} {s} \\right)^3$$\n",
    "\n",
    "First, let's experiment with the normal distribution we originally generated:"
   ]
  },
  {
   "cell_type": "code",
   "execution_count": 19,
   "id": "23fb4238",
   "metadata": {},
   "outputs": [
    {
     "name": "stdout",
     "output_type": "stream",
     "text": [
      "0.025571742158292405\n"
     ]
    },
    {
     "data": {
      "image/png": "[encoded data removed]",
      "text/plain": [
       "<Figure size 432x288 with 1 Axes>"
      ]
     },
     "metadata": {},
     "output_type": "display_data"
    }
   ],
   "source": [
    "from scipy.stats import skew\n",
    "\n",
    "print(skew([x for x in data], axis=0, bias=True))\n",
    "plt.hist(data);"
   ]
  },
  {
   "cell_type": "markdown",
   "id": "a9684f2a",
   "metadata": {},
   "source": [
    "The skewness of our empirical normal distribution comes close to zero. Perhaps this is no shock, as the sampled distribution is quite symmetrical, as the analytical (i.e. theoretical) normal distribution is perfectly symmetrical.\n",
    "\n",
    "But let's try a non-symmetrical distribution - the log-normal distribution - and see the result:"
   ]
  },
  {
   "cell_type": "code",
   "execution_count": 20,
   "id": "5b6df1f2",
   "metadata": {},
   "outputs": [],
   "source": [
    "from scipy.stats import lognorm\n",
    "mu = 0\n",
    "sd = 1\n",
    "logdata = lognorm.rvs(loc=mu, s=1, size=300, random_state=123)"
   ]
  },
  {
   "cell_type": "code",
   "execution_count": 21,
   "id": "efb71641",
   "metadata": {},
   "outputs": [
    {
     "name": "stdout",
     "output_type": "stream",
     "text": [
      "3.7805430308893246\n"
     ]
    },
    {
     "data": {
      "image/png": "[encoded data removed]",
      "text/plain": [
       "<Figure size 432x288 with 1 Axes>"
      ]
     },
     "metadata": {},
     "output_type": "display_data"
    }
   ],
   "source": [
    "print(skew([x for x in logdata], axis=0, bias=True))\n",
    "plt.hist(logdata);"
   ]
  },
  {
   "cell_type": "markdown",
   "id": "f80f825c",
   "metadata": {},
   "source": [
    "### Kurtosis"
   ]
  },
  {
   "cell_type": "markdown",
   "id": "59b910cd",
   "metadata": {},
   "source": [
    "Kurtosis measures the peakedness of a frequency distribution; higher kurtosis levels reflect a pointier distribution (known as leptokurtic). It is common to subtract 3 from kurtosis, in order to speak of excess kurtosis vs. the standard normal distribution.\n",
    "\n",
    "$$Kurtosis = \\frac{(n)(n+1)}{(n-1)(n-2)(n-3)} \\sum \\left( \\frac{x_i - \\bar{x}} {s} \\right)^4 - \\frac{3(n-1)^2}{(n-2)(n-3)}$$"
   ]
  },
  {
   "cell_type": "code",
   "execution_count": 22,
   "id": "2ed46a6a",
   "metadata": {
    "scrolled": true
   },
   "outputs": [
    {
     "name": "stdout",
     "output_type": "stream",
     "text": [
      "-0.01391455334004954\n"
     ]
    },
    {
     "data": {
      "image/png": "[encoded data removed]",
      "text/plain": [
       "<Figure size 432x288 with 1 Axes>"
      ]
     },
     "metadata": {},
     "output_type": "display_data"
    }
   ],
   "source": [
    "from scipy.stats import kurtosis\n",
    "\n",
    "print(kurtosis([x for x in data], axis=0, bias=True))\n",
    "plt.hist(data);"
   ]
  },
  {
   "cell_type": "markdown",
   "id": "c54f1166",
   "metadata": {},
   "source": [
    "The excess kurtosis comes very close to zero. Now, let's see what the statistic shows for our log-normal distribution"
   ]
  },
  {
   "cell_type": "code",
   "execution_count": 23,
   "id": "a7aeabc3",
   "metadata": {
    "scrolled": true
   },
   "outputs": [
    {
     "name": "stdout",
     "output_type": "stream",
     "text": [
      "20.795270369671304\n"
     ]
    },
    {
     "data": {
      "image/png": "[encoded data removed]",
      "text/plain": [
       "<Figure size 432x288 with 1 Axes>"
      ]
     },
     "metadata": {},
     "output_type": "display_data"
    }
   ],
   "source": [
    "print(kurtosis([x for x in logdata], axis=0, bias=True))\n",
    "plt.hist(logdata);"
   ]
  },
  {
   "cell_type": "markdown",
   "id": "33e73fa1",
   "metadata": {},
   "source": [
    "As expected, the output statistic has a very different value"
   ]
  }
 ],
 "metadata": {
  "kernelspec": {
   "display_name": "Python 3 (ipykernel)",
   "language": "python",
   "name": "python3"
  },
  "language_info": {
   "codemirror_mode": {
    "name": "ipython",
    "version": 3
   },
   "file_extension": ".py",
   "mimetype": "text/x-python",
   "name": "python",
   "nbconvert_exporter": "python",
   "pygments_lexer": "ipython3",
   "version": "3.9.12"
  }
 },
 "nbformat": 4,
 "nbformat_minor": 5
}
