{
 "cells": [
  {
   "cell_type": "markdown",
   "id": "f7d9b858",
   "metadata": {},
   "source": [
    "# Measures of Relationship"
   ]
  },
  {
   "cell_type": "markdown",
   "id": "b897b1b9",
   "metadata": {},
   "source": [
    "## Covariance and Correlation"
   ]
  },
  {
   "cell_type": "markdown",
   "id": "b8a74529",
   "metadata": {},
   "source": [
    "A <b>correlation</b> analysis outputs a correlation coefficient $r$ (a.k.a. Pearson's correlation coefficient) that shows the linear relationship between two variables, and varies between -1 (a perfectly negative correlation) and +1 (a perfectly positive correlation).\n",
    "\n",
    "Correlation is <b>covariance</b> scaled by the standard deviation of both data items, and <b>covariance</b> is an unscaled number that measures the linear relationship between two variables (ranging from $-X$ to $+X$)."
   ]
  },
  {
   "cell_type": "markdown",
   "id": "1b05b54d",
   "metadata": {},
   "source": [
    "Let's grab some data and illustrate... we'll use something that is likely correlated - the US GDP and adjusted 'Real GDP' since the year 1990. We'll also start by importing some necessary libraries."
   ]
  },
  {
   "cell_type": "code",
   "execution_count": 8,
   "id": "391889f7",
   "metadata": {},
   "outputs": [],
   "source": [
    "# pip install --user Nasdaq-Data-Link\n",
    "import numpy as np\n",
    "import pandas as pd\n",
    "import matplotlib.pyplot as plt\n",
    "import nasdaqdatalink"
   ]
  },
  {
   "cell_type": "markdown",
   "id": "66293913",
   "metadata": {},
   "source": [
    "Then grab the data from Nasdaq Link's FRED database"
   ]
  },
  {
   "cell_type": "code",
   "execution_count": null,
   "id": "8c42254a",
   "metadata": {},
   "outputs": [],
   "source": [
    "gdp = nasdaqdatalink.get(\"FRED/GDP\", start_date=\"1990-01-01\")\n",
    "real_gdp = nasdaqdatalink.get(\"FRED/GDPC1\", start_date=\"1990-01-01\")"
   ]
  },
  {
   "cell_type": "code",
   "execution_count": 32,
   "id": "99a02922",
   "metadata": {
    "scrolled": true
   },
   "outputs": [
    {
     "data": {
      "text/html": [
       "<div>\n",
       "<style scoped>\n",
       "    .dataframe tbody tr th:only-of-type {\n",
       "        vertical-align: middle;\n",
       "    }\n",
       "\n",
       "    .dataframe tbody tr th {\n",
       "        vertical-align: top;\n",
       "    }\n",
       "\n",
       "    .dataframe thead th {\n",
       "        text-align: right;\n",
       "    }\n",
       "</style>\n",
       "<table border=\"1\" class=\"dataframe\">\n",
       "  <thead>\n",
       "    <tr style=\"text-align: right;\">\n",
       "      <th></th>\n",
       "      <th>GDP</th>\n",
       "    </tr>\n",
       "    <tr>\n",
       "      <th>Date</th>\n",
       "      <th></th>\n",
       "    </tr>\n",
       "  </thead>\n",
       "  <tbody>\n",
       "    <tr>\n",
       "      <th>1990-01-01</th>\n",
       "      <td>5872.701</td>\n",
       "    </tr>\n",
       "    <tr>\n",
       "      <th>1990-04-01</th>\n",
       "      <td>5960.028</td>\n",
       "    </tr>\n",
       "    <tr>\n",
       "      <th>1990-07-01</th>\n",
       "      <td>6015.116</td>\n",
       "    </tr>\n",
       "    <tr>\n",
       "      <th>1990-10-01</th>\n",
       "      <td>6004.733</td>\n",
       "    </tr>\n",
       "    <tr>\n",
       "      <th>1991-01-01</th>\n",
       "      <td>6035.178</td>\n",
       "    </tr>\n",
       "  </tbody>\n",
       "</table>\n",
       "</div>"
      ],
      "text/plain": [
       "                 GDP\n",
       "Date                \n",
       "1990-01-01  5872.701\n",
       "1990-04-01  5960.028\n",
       "1990-07-01  6015.116\n",
       "1990-10-01  6004.733\n",
       "1991-01-01  6035.178"
      ]
     },
     "execution_count": 32,
     "metadata": {},
     "output_type": "execute_result"
    }
   ],
   "source": [
    "gdp.rename(columns = {'Value':'GDP'}, inplace = True)\n",
    "gdp.head()"
   ]
  },
  {
   "cell_type": "code",
   "execution_count": 33,
   "id": "d12b4fec",
   "metadata": {},
   "outputs": [
    {
     "data": {
      "text/html": [
       "<div>\n",
       "<style scoped>\n",
       "    .dataframe tbody tr th:only-of-type {\n",
       "        vertical-align: middle;\n",
       "    }\n",
       "\n",
       "    .dataframe tbody tr th {\n",
       "        vertical-align: top;\n",
       "    }\n",
       "\n",
       "    .dataframe thead th {\n",
       "        text-align: right;\n",
       "    }\n",
       "</style>\n",
       "<table border=\"1\" class=\"dataframe\">\n",
       "  <thead>\n",
       "    <tr style=\"text-align: right;\">\n",
       "      <th></th>\n",
       "      <th>Real_GDP</th>\n",
       "    </tr>\n",
       "    <tr>\n",
       "      <th>Date</th>\n",
       "      <th></th>\n",
       "    </tr>\n",
       "  </thead>\n",
       "  <tbody>\n",
       "    <tr>\n",
       "      <th>1990-01-01</th>\n",
       "      <td>9364.259</td>\n",
       "    </tr>\n",
       "    <tr>\n",
       "      <th>1990-04-01</th>\n",
       "      <td>9398.243</td>\n",
       "    </tr>\n",
       "    <tr>\n",
       "      <th>1990-07-01</th>\n",
       "      <td>9404.494</td>\n",
       "    </tr>\n",
       "    <tr>\n",
       "      <th>1990-10-01</th>\n",
       "      <td>9318.876</td>\n",
       "    </tr>\n",
       "    <tr>\n",
       "      <th>1991-01-01</th>\n",
       "      <td>9275.276</td>\n",
       "    </tr>\n",
       "  </tbody>\n",
       "</table>\n",
       "</div>"
      ],
      "text/plain": [
       "            Real_GDP\n",
       "Date                \n",
       "1990-01-01  9364.259\n",
       "1990-04-01  9398.243\n",
       "1990-07-01  9404.494\n",
       "1990-10-01  9318.876\n",
       "1991-01-01  9275.276"
      ]
     },
     "execution_count": 33,
     "metadata": {},
     "output_type": "execute_result"
    }
   ],
   "source": [
    "real_gdp.rename(columns = {'Value':'Real_GDP'}, inplace = True)\n",
    "real_gdp.head()"
   ]
  },
  {
   "cell_type": "code",
   "execution_count": 34,
   "id": "968367db",
   "metadata": {},
   "outputs": [
    {
     "data": {
      "image/png": "[encoded data removed]",
      "text/plain": [
       "<Figure size 432x288 with 1 Axes>"
      ]
     },
     "metadata": {
      "needs_background": "light"
     },
     "output_type": "display_data"
    },
    {
     "data": {
      "image/png": "[encoded data removed]",
      "text/plain": [
       "<Figure size 432x288 with 1 Axes>"
      ]
     },
     "metadata": {
      "needs_background": "light"
     },
     "output_type": "display_data"
    }
   ],
   "source": [
    "gdp.plot();\n",
    "real_gdp.plot();"
   ]
  },
  {
   "cell_type": "markdown",
   "id": "7bd32d9d",
   "metadata": {},
   "source": [
    "### Covariance"
   ]
  },
  {
   "cell_type": "markdown",
   "id": "380a0f2f",
   "metadata": {},
   "source": [
    "The formula for covariance is as follows:\n",
    "    \n",
    "$$cov(x,y)=\\frac{\\sum_{i=1}^{N}(x_{i}-\\bar{x})(y_{i}-\\bar{y})}{N-1}$$\n",
    "\n",
    "An implementation of this exists in Numpy. It returns a matrix, comparing each variable to each other variable."
   ]
  },
  {
   "cell_type": "code",
   "execution_count": 36,
   "id": "41f7376a",
   "metadata": {},
   "outputs": [
    {
     "data": {
      "text/plain": [
       "array([[24687690.14732611, 14930035.73104249],\n",
       "       [14930035.73104249,  9225461.9170903 ]])"
      ]
     },
     "execution_count": 36,
     "metadata": {},
     "output_type": "execute_result"
    }
   ],
   "source": [
    "gdp_vals = gdp['GDP'].values\n",
    "real_gdp_vals = real_gdp['Real_GDP'].values\n",
    "np.cov(gdp_vals, real_gdp_vals)"
   ]
  },
  {
   "cell_type": "markdown",
   "id": "9f4e9920",
   "metadata": {},
   "source": [
    "You can see that the numbers returned are not normalized, and would not be very helpful in comparing the relationship between these variables to the relationships in other datasets. Nor would it make for an easy way to express to others the relationship between our two variables."
   ]
  },
  {
   "cell_type": "markdown",
   "id": "5043e77a",
   "metadata": {},
   "source": [
    "### Correlation"
   ]
  },
  {
   "cell_type": "markdown",
   "id": "9159a99d",
   "metadata": {},
   "source": [
    "<b>Correlation</b> is calculated as follows:\n",
    "    \n",
    "$$r = \\frac{N\\times \\sum{XY}-(\\sum{X}\\sum{Y})}{\\sqrt{ [N\\sum{x^2}-(\\sum{x})^2 ][N \\sum{y^2}-(\\sum{y})^2 }]}\\$$\n",
    "\n",
    "Again, we don't have to calculate it manually because a reliable implementation exists in Numpy."
   ]
  },
  {
   "cell_type": "code",
   "execution_count": 38,
   "id": "d9252b1d",
   "metadata": {},
   "outputs": [
    {
     "data": {
      "text/plain": [
       "array([[1.        , 0.98929669],\n",
       "       [0.98929669, 1.        ]])"
      ]
     },
     "execution_count": 38,
     "metadata": {},
     "output_type": "execute_result"
    }
   ],
   "source": [
    "np.corrcoef(gdp_vals, real_gdp_vals)"
   ]
  },
  {
   "cell_type": "markdown",
   "id": "2c0c9e8a",
   "metadata": {},
   "source": [
    "Again, we are returned a matrix. The numbers on the left diagonal are equal to 1 because those cells represent a variable being compared against it itself."
   ]
  },
  {
   "cell_type": "markdown",
   "id": "ae94a9f8",
   "metadata": {},
   "source": [
    "### Coefficient of Determination"
   ]
  },
  {
   "cell_type": "markdown",
   "id": "8cd9e923",
   "metadata": {},
   "source": [
    "The <b>Coefficient of Determination</b>, $R^2$, is heavily used in forecasting and modeling, and is a function of the mean squared error that a model is able to eliminate. Squaring the error results in it always being positive, and taking errors of a negative direction into account when there are multiple input variables.\n",
    "\n",
    "$$R^2 - 1 - \\frac{SS_{res}}{SS_{tot}}$$\n",
    "\n",
    "An implementation exists in scikit-learn."
   ]
  },
  {
   "cell_type": "code",
   "execution_count": 42,
   "id": "640f609d",
   "metadata": {},
   "outputs": [
    {
     "name": "stdout",
     "output_type": "stream",
     "text": [
      "0.7838068160974643\n"
     ]
    }
   ],
   "source": [
    "from sklearn.metrics import r2_score\n",
    "R2 = r2_score(gdp_vals, real_gdp_vals)\n",
    "print(R2)"
   ]
  },
  {
   "cell_type": "markdown",
   "id": "36cd84b1",
   "metadata": {},
   "source": [
    "### Adjusted $R^2$"
   ]
  },
  {
   "cell_type": "markdown",
   "id": "f6475a22",
   "metadata": {},
   "source": [
    "THe adjusted $R^2$ metric takes into account the number of parameters in a model, so it's preferable when comparing models of differing numbers of variables. It is calculated as follows:\n",
    "\n",
    "$$Adj.R^2 = 1 - \\frac{n - 1}{n - k - 1} (1-R^2)$$ \n",
    "\n",
    "And therefore can be calculated quite easily from the $R^2$ we obtained."
   ]
  },
  {
   "cell_type": "code",
   "execution_count": 45,
   "id": "3f9ed671",
   "metadata": {},
   "outputs": [
    {
     "name": "stdout",
     "output_type": "stream",
     "text": [
      "0.7803477251550237\n"
     ]
    }
   ],
   "source": [
    "n = len(gdp_vals)\n",
    "p = 2\n",
    "Adj_R2 = 1-(1-R2)*(n-1)/(n-p-1)\n",
    "print(Adj_R2)"
   ]
  },
  {
   "cell_type": "markdown",
   "id": "85dc3065",
   "metadata": {},
   "source": [
    "This will be more important when we start analyzing more complex problems."
   ]
  },
  {
   "cell_type": "markdown",
   "id": "7b5ad0d5",
   "metadata": {},
   "source": [
    "## Non-Parametric Measures of Relationship"
   ]
  },
  {
   "cell_type": "markdown",
   "id": "5bda809b",
   "metadata": {},
   "source": [
    "Like linear regression, the correlation coefficient assumes data normality (that the data comes from a Gaussian-like distribution) and linearity. What if these assumptions aren't met?"
   ]
  },
  {
   "cell_type": "markdown",
   "id": "bffc82db",
   "metadata": {},
   "source": [
    "Similar to with hypothesis testing, there are non-parametric methods which carry less 'power', but relax certain assumptions."
   ]
  },
  {
   "cell_type": "markdown",
   "id": "90705a33",
   "metadata": {},
   "source": [
    "### Spearman Correlation"
   ]
  },
  {
   "cell_type": "markdown",
   "id": "0ced864d",
   "metadata": {},
   "source": [
    "<b>Spearman Correlation</b> is a non-parametric alternative to Pearson correlation, since Pearson's $r$ is sensitive to outliers, and inflates or deflates nonlinear relationships. Pearson and Spearman correlation converge when the data are normally distributed. Also referred to as Spearman's $\\rho$ (rho), it tests for a monotonic relationship; i.e., a relationship of increasing or decreasing numbers, regardless of the spacing between."
   ]
  },
  {
   "cell_type": "markdown",
   "id": "542007c1",
   "metadata": {},
   "source": [
    "To Compute Spearman Correlation:\n",
    "    <ol>\n",
    "        <li>Transform both variables' values to ranks</li>\n",
    "        <li>Compute the Pearson correlation coefficient on the rank-transformed data</li>\n",
    "        <li>Compute p-value as you would with the Pearson correlation</li>\n",
    "    </ol>\n",
    "\n",
    "$$t_{n-2} = \\frac{ r \\sqrt{n-2} }{ 1 - r^2 }$$\n",
    "\n",
    "We'll use an implementation from the Scipy module. It returns an object with a correlation value and a p-value for the correlation statistic"
   ]
  },
  {
   "cell_type": "code",
   "execution_count": 56,
   "id": "9f6e1826",
   "metadata": {},
   "outputs": [
    {
     "data": {
      "text/plain": [
       "SpearmanrResult(correlation=0.9983462277971068, pvalue=3.612645247238005e-158)"
      ]
     },
     "execution_count": 56,
     "metadata": {},
     "output_type": "execute_result"
    }
   ],
   "source": [
    "import scipy.stats as stats\n",
    "spearm_result = stats.spearmanr(gdp_vals, real_gdp_vals)\n",
    "spearm_result"
   ]
  },
  {
   "cell_type": "markdown",
   "id": "943d5ca3",
   "metadata": {},
   "source": [
    "If we only want to see the first value returned, we can select it with [0]."
   ]
  },
  {
   "cell_type": "code",
   "execution_count": 57,
   "id": "e56a85dd",
   "metadata": {},
   "outputs": [
    {
     "data": {
      "text/plain": [
       "0.9983462277971068"
      ]
     },
     "execution_count": 57,
     "metadata": {},
     "output_type": "execute_result"
    }
   ],
   "source": [
    "spearm_result[0]"
   ]
  },
  {
   "cell_type": "code",
   "execution_count": 58,
   "id": "00aadb07",
   "metadata": {},
   "outputs": [
    {
     "data": {
      "text/plain": [
       "0.9983462277971068"
      ]
     },
     "execution_count": 58,
     "metadata": {},
     "output_type": "execute_result"
    }
   ],
   "source": [
    "spearm_corr_only = stats.spearmanr(gdp_vals, real_gdp_vals)[0]\n",
    "spearm_corr_only"
   ]
  },
  {
   "cell_type": "markdown",
   "id": "a9503a4b",
   "metadata": {},
   "source": [
    "### Kendall's Correlation"
   ]
  },
  {
   "cell_type": "markdown",
   "id": "d2a89a11",
   "metadata": {},
   "source": [
    "Kendall's correlation (a.k.a. Kendall's tau) is used for ordinal data (e.g., the likert scale), that has no fixed relationship across the levels. It transforms the data to rank concordances."
   ]
  },
  {
   "cell_type": "markdown",
   "id": "e5fbade7",
   "metadata": {},
   "source": [
    "$$\\tau = K^{-1} \\sum sgn(\\tilde{x}_i - \\tilde{x}_i:) sgn(\\tilde{y}_i - \\tilde{y}_i:)$$"
   ]
  },
  {
   "cell_type": "code",
   "execution_count": 62,
   "id": "c9d5eac4",
   "metadata": {},
   "outputs": [
    {
     "data": {
      "text/plain": [
       "KendalltauResult(correlation=0.9812992125984253, pvalue=1.1985023589587789e-60)"
      ]
     },
     "execution_count": 62,
     "metadata": {},
     "output_type": "execute_result"
    }
   ],
   "source": [
    "kendall_result = stats.kendalltau(gdp_vals, real_gdp_vals)\n",
    "kendall_result"
   ]
  },
  {
   "cell_type": "code",
   "execution_count": 63,
   "id": "2e2606e7",
   "metadata": {},
   "outputs": [
    {
     "data": {
      "text/plain": [
       "0.9812992125984253"
      ]
     },
     "execution_count": 63,
     "metadata": {},
     "output_type": "execute_result"
    }
   ],
   "source": [
    "kendall_result[0]"
   ]
  },
  {
   "cell_type": "code",
   "execution_count": 65,
   "id": "a59b0819",
   "metadata": {},
   "outputs": [
    {
     "data": {
      "text/plain": [
       "0.9812992125984253"
      ]
     },
     "execution_count": 65,
     "metadata": {},
     "output_type": "execute_result"
    }
   ],
   "source": [
    "kendall_corr_only = stats.kendalltau(gdp_vals, real_gdp_vals)[0]\n",
    "kendall_corr_only"
   ]
  }
 ],
 "metadata": {
  "kernelspec": {
   "display_name": "Python 3 (ipykernel)",
   "language": "python",
   "name": "python3"
  },
  "language_info": {
   "codemirror_mode": {
    "name": "ipython",
    "version": 3
   },
   "file_extension": ".py",
   "mimetype": "text/x-python",
   "name": "python",
   "nbconvert_exporter": "python",
   "pygments_lexer": "ipython3",
   "version": "3.9.12"
  }
 },
 "nbformat": 4,
 "nbformat_minor": 5
}
