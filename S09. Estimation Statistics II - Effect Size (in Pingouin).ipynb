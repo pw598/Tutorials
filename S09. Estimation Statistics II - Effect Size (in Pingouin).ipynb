{
 "cells": [
  {
   "cell_type": "markdown",
   "id": "bf99175e",
   "metadata": {},
   "source": [
    "# Effect Size Tests (Using Pingouin)"
   ]
  },
  {
   "cell_type": "markdown",
   "id": "4dca545f",
   "metadata": {},
   "source": [
    "Hypothesis tests report on the likelihood of observed results given the assumptions. Effect size methods are a suite of statistical tools for quantifying the size of effect, and are a good complement to hypothesis testing.\n",
    "\n",
    "An effect size refers to the size of an effect or result as it would be expected to occur in a population, and can standardize measurement such that it is comparable across populations and experiments."
   ]
  },
  {
   "cell_type": "markdown",
   "id": "53eccf06",
   "metadata": {},
   "source": [
    "## Compute Effect Size"
   ]
  },
  {
   "cell_type": "markdown",
   "id": "514ef1b1",
   "metadata": {},
   "source": [
    "#### Parameters"
   ]
  },
  {
   "cell_type": "markdown",
   "id": "ea7b46c7",
   "metadata": {},
   "source": [
    "<table class=\"tableizer-table\">\n",
    "<thead><tr class=\"tableizer-firstrow\"><th style=\"text-align: left\">Function</th><th style=\"text-align: left\">Parameter</th><th style=\"text-align: left\">Type</th><th style=\"text-align: left\">Description</th></tr></thead><tbody>\n",
    " <tr><td style=\"text-align: left\">compute_effsize</td><td style=\"text-align: left\">x</td><td style=\"text-align: left\">array or list</td><td style=\"text-align: left\">first set of observations</td></tr>\n",
    " <tr><td>&nbsp;</td><td style=\"text-align: left\">y</td><td style=\"text-align: left\">array or list</td><td style=\"text-align: left\">second set of observations</td></tr>\n",
    " <tr><td>&nbsp;</td><td style=\"text-align: left\">paired</td><td style=\"text-align: left\">boolean</td><td style=\"text-align: left\">if True, uses Cohen d-avg formula to correct for repeated measurements</td></tr>\n",
    " <tr><td>&nbsp;</td><td style=\"text-align: left\">eftype</td><td style=\"text-align: left\">string</td><td style=\"text-align: left\">desired output effect size ('none', 'cohen', 'hedges', 'r', 'eta-square', 'odds ratio', 'AUC', 'CLES')</td></tr>\n",
    " <tr><td style=\"text-align: left\">returns:</td><td style=\"text-align: left\">ef</td><td style=\"text-align: left\">float</td><td style=\"text-align: left\">effect size</td></tr>\n",
    "</tbody></table>"
   ]
  },
  {
   "cell_type": "markdown",
   "id": "dc0f4950",
   "metadata": {},
   "source": [
    "#### Cohen's d from Independent Samples"
   ]
  },
  {
   "cell_type": "markdown",
   "id": "5d44bf32",
   "metadata": {},
   "source": [
    "<p>If x and y are independent, the Cohen d is:</p>\n",
    "\n",
    "<p>$$d = \\frac{ \\bar{X}-\\bar{Y} }{ \\frac{ \\sqrt{  (n_1-1)\\sigma_1^2 + (n_2-1)\\sigma_2^2 } }{ n_1 + n_2 - 2 } }$$</p>\n",
    "\n",
    "<p>Cohen's d is a biased estimate of the population size, especially for small samples (e.g., $\\le 20$), where Hedges g is preferable</p>\n",
    "\n",
    "<p>$$g = d \\left( 1 - \\frac{ 3 }{ 4(n_1 + n_2) - 9 } \\right)$$</p>"
   ]
  },
  {
   "cell_type": "code",
   "execution_count": 3,
   "id": "f6c5d741",
   "metadata": {},
   "outputs": [
    {
     "data": {
      "text/plain": [
       "-1.707825127659933"
      ]
     },
     "execution_count": 3,
     "metadata": {},
     "output_type": "execute_result"
    }
   ],
   "source": [
    "import numpy as np\n",
    "import pingouin as pg\n",
    "x = [1, 2, 3, 4]\n",
    "y = [3, 4, 5, 6, 7]\n",
    "pg.compute_effsize(x, y, paired=False, eftype='cohen')"
   ]
  },
  {
   "cell_type": "markdown",
   "id": "863db8a7",
   "metadata": {},
   "source": [
    "The sign of the Cohen d will be opposite if we reverse the order of x and y"
   ]
  },
  {
   "cell_type": "code",
   "execution_count": 4,
   "id": "21633d5f",
   "metadata": {},
   "outputs": [
    {
     "data": {
      "text/plain": [
       "1.707825127659933"
      ]
     },
     "execution_count": 4,
     "metadata": {},
     "output_type": "execute_result"
    }
   ],
   "source": [
    "pg.compute_effsize(y, x, paired=False, eftype='cohen')"
   ]
  },
  {
   "cell_type": "markdown",
   "id": "16b5d92a",
   "metadata": {},
   "source": [
    "#### Hedges g from Paired Samples"
   ]
  },
  {
   "cell_type": "code",
   "execution_count": 6,
   "id": "5c51c552",
   "metadata": {},
   "outputs": [
    {
     "data": {
      "text/plain": [
       "-0.8222477210374874"
      ]
     },
     "execution_count": 6,
     "metadata": {},
     "output_type": "execute_result"
    }
   ],
   "source": [
    "x = [1, 2, 3, 4, 5, 6, 7]\n",
    "y = [1, 3, 5, 7, 9, 11, 13]\n",
    "pg.compute_effsize(x, y, paired=True, eftype='hedges')"
   ]
  },
  {
   "cell_type": "markdown",
   "id": "be1a34f7",
   "metadata": {},
   "source": [
    "### Common Language Effect Size"
   ]
  },
  {
   "cell_type": "markdown",
   "id": "07b8c000",
   "metadata": {},
   "source": [
    "<p>The 'common language' effect size is the proportion of pairs where x > y, and where each observation of x is paired to each observation of y</p>\n",
    "\n",
    "<p>$$CL = P(X > Y) + 0.5(P(X=Y))$$</p>"
   ]
  },
  {
   "cell_type": "code",
   "execution_count": 7,
   "id": "095a8490",
   "metadata": {},
   "outputs": [
    {
     "data": {
      "text/plain": [
       "0.2857142857142857"
      ]
     },
     "execution_count": 7,
     "metadata": {},
     "output_type": "execute_result"
    }
   ],
   "source": [
    "pg.compute_effsize(x, y, eftype='cles')"
   ]
  },
  {
   "cell_type": "code",
   "execution_count": 8,
   "id": "c355c14a",
   "metadata": {},
   "outputs": [
    {
     "data": {
      "text/plain": [
       "0.7142857142857143"
      ]
     },
     "execution_count": 8,
     "metadata": {},
     "output_type": "execute_result"
    }
   ],
   "source": [
    "pg.compute_effsize(y, x, eftype='cles') # reversed the order of x and y"
   ]
  },
  {
   "cell_type": "markdown",
   "id": "2e602f10",
   "metadata": {},
   "source": [
    "## Effect Size from t"
   ]
  },
  {
   "cell_type": "markdown",
   "id": "ffd73cd6",
   "metadata": {},
   "source": [
    "#### Parameters"
   ]
  },
  {
   "cell_type": "markdown",
   "id": "fca9d8a5",
   "metadata": {},
   "source": [
    "<table class=\"tableizer-table\">\n",
    "<thead><tr class=\"tableizer-firstrow\"><th style=\"text-align: left\">Function</th><th style=\"text-align: left\">Parameter</th><th style=\"text-align: left\">Type</th><th style=\"text-align: left\">Description</th></tr></thead><tbody>\n",
    " <tr><td style=\"text-align: left\">compute_effsize_from_t</td><td style=\"text-align: left\">tval</td><td style=\"text-align: left\">float</td><td style=\"text-align: left\">t-value</td></tr>\n",
    " <tr><td>&nbsp;</td><td style=\"text-align: left\">nx, ny</td><td style=\"text-align: left\">int</td><td style=\"text-align: left\">group sample sizes</td></tr>\n",
    " <tr><td>&nbsp;</td><td style=\"text-align: left\">N</td><td style=\"text-align: left\">int</td><td style=\"text-align: left\">total sample size (will not be used if nx and ny are specified</td></tr>\n",
    " <tr><td>&nbsp;</td><td style=\"text-align: left\">eftype</td><td style=\"text-align: left\">string</td><td style=\"text-align: left\">desired output effect size</td></tr>\n",
    " <tr><td style=\"text-align: left\">returns:</td><td style=\"text-align: left\">ef</td><td style=\"text-align: left\">float</td><td style=\"text-align: left\">effect size</td></tr>\n",
    "</tbody></table>"
   ]
  },
  {
   "cell_type": "markdown",
   "id": "93f7aae6",
   "metadata": {},
   "source": [
    "#### Sample Sizes Known"
   ]
  },
  {
   "cell_type": "markdown",
   "id": "189ecaa3",
   "metadata": {},
   "source": [
    "<p>If both nx and ny are specified, the formula is:</p>\n",
    "\n",
    "<p>$$d = t\\text{*} \\sqrt{ \\frac{1}{n_x} + \\frac{1}{n_y} }$$</p>"
   ]
  },
  {
   "cell_type": "code",
   "execution_count": 9,
   "id": "13b22cb1",
   "metadata": {},
   "outputs": [
    {
     "name": "stdout",
     "output_type": "stream",
     "text": [
      "0.7593982580212534\n"
     ]
    }
   ],
   "source": [
    "from pingouin import compute_effsize_from_t\n",
    "tval, nx, ny = 2.90, 35, 25\n",
    "d = compute_effsize_from_t(tval, nx=nx, ny=ny, eftype='cohen')\n",
    "print(d)"
   ]
  },
  {
   "cell_type": "markdown",
   "id": "b80c4326",
   "metadata": {},
   "source": [
    "### Only Total Sample Size Known"
   ]
  },
  {
   "cell_type": "markdown",
   "id": "c73734d0",
   "metadata": {},
   "source": [
    "#### Description/Intuition"
   ]
  },
  {
   "cell_type": "markdown",
   "id": "ce8f96d1",
   "metadata": {},
   "source": [
    "<p>If only N is specified, the formula is:</p>\n",
    "\n",
    "<p>$$d = \\frac{2t}{\\sqrt{n}}$$</p>"
   ]
  },
  {
   "cell_type": "code",
   "execution_count": 10,
   "id": "18a3fdc3",
   "metadata": {},
   "outputs": [
    {
     "name": "stdout",
     "output_type": "stream",
     "text": [
      "0.7487767802667672\n"
     ]
    }
   ],
   "source": [
    "tval, N = 2.90, 60\n",
    "d = compute_effsize_from_t(tval, N=N, eftype='cohen')\n",
    "print(d)"
   ]
  },
  {
   "cell_type": "markdown",
   "id": "e814ac0b",
   "metadata": {},
   "source": [
    "## Convert Effect Size"
   ]
  },
  {
   "cell_type": "markdown",
   "id": "0a74d6e3",
   "metadata": {},
   "source": [
    "#### Parameters"
   ]
  },
  {
   "cell_type": "markdown",
   "id": "0df79a44",
   "metadata": {},
   "source": [
    "<table class=\"tableizer-table\">\n",
    "<thead><tr class=\"tableizer-firstrow\"><th style=\"text-align: left\">Function</th><th style=\"text-align: left\">Parameter</th><th style=\"text-align: left\">Type</th><th style=\"text-align: left\">Description</th></tr></thead><tbody>\n",
    " <tr><td style=\"text-align: left\">convert_effsize</td><td style=\"text-align: left\">ef</td><td style=\"text-align: left\">float</td><td style=\"text-align: left\">original effect size</td></tr>\n",
    " <tr><td>&nbsp;</td><td style=\"text-align: left\">input_type</td><td style=\"text-align: left\">string</td><td style=\"text-align: left\">'r' or 'cohen'</td></tr>\n",
    " <tr><td>&nbsp;</td><td style=\"text-align: left\">output_type</td><td style=\"text-align: left\">string</td><td style=\"text-align: left\">desired output effect size ('cohen', 'hedges', 'eta-square', 'odds ratio', 'AUC', 'none')</td></tr>\n",
    " <tr><td>&nbsp;</td><td style=\"text-align: left\">nx, ny</td><td style=\"text-align: left\">int</td><td style=\"text-align: left\">length of vector x and y, required to convert Hedges g</td></tr>\n",
    " <tr><td style=\"text-align: left\">returns:</td><td style=\"text-align: left\">ef</td><td style=\"text-align: left\">float</td><td style=\"text-align: left\">desired converted effect size</td></tr>\n",
    "</tbody></table>"
   ]
  },
  {
   "cell_type": "markdown",
   "id": "6cd52af9",
   "metadata": {},
   "source": [
    "#### Cohen's d to Eta-Squared"
   ]
  },
  {
   "cell_type": "markdown",
   "id": "bc08801a",
   "metadata": {},
   "source": [
    "<p>To convert d to eta-squared:</p>\n",
    "\n",
    "<p>$$\\eta^2 = \\frac{ (0.5 d)^2 }{ 1 + (0.5 d)^2 }$$</p>"
   ]
  },
  {
   "cell_type": "code",
   "execution_count": 11,
   "id": "9b1517ab",
   "metadata": {},
   "outputs": [
    {
     "name": "stdout",
     "output_type": "stream",
     "text": [
      "0.048185603807257595\n"
     ]
    }
   ],
   "source": [
    "import pingouin as pg\n",
    "d = .45\n",
    "eta = pg.convert_effsize(d, 'cohen', 'eta-square')\n",
    "print(eta)"
   ]
  },
  {
   "cell_type": "markdown",
   "id": "d218dd96",
   "metadata": {},
   "source": [
    "#### Cohen's d to Hedges g"
   ]
  },
  {
   "cell_type": "code",
   "execution_count": 12,
   "id": "a4bcce05",
   "metadata": {},
   "outputs": [
    {
     "data": {
      "text/plain": [
       "0.4309859154929578"
      ]
     },
     "execution_count": 12,
     "metadata": {},
     "output_type": "execute_result"
    }
   ],
   "source": [
    "pg.convert_effsize(.45, 'cohen', 'hedges', nx=10, ny=10)"
   ]
  },
  {
   "cell_type": "markdown",
   "id": "1158858b",
   "metadata": {},
   "source": [
    "#### Pearson r to Cohen's d"
   ]
  },
  {
   "cell_type": "code",
   "execution_count": 13,
   "id": "3ab6305f",
   "metadata": {},
   "outputs": [],
   "source": [
    "# Description/Intuition"
   ]
  },
  {
   "cell_type": "markdown",
   "id": "0a7d4b05",
   "metadata": {},
   "source": [
    "<p>The formula to convert r to d is given by:</p>\n",
    "\n",
    "<p>$$d = \\frac{2r}{\\sqrt{1-r^2}}$$</p>"
   ]
  },
  {
   "cell_type": "code",
   "execution_count": 14,
   "id": "fc3398ab",
   "metadata": {},
   "outputs": [
    {
     "name": "stdout",
     "output_type": "stream",
     "text": [
      "0.8728715609439696\n"
     ]
    }
   ],
   "source": [
    "r = 0.40\n",
    "d = pg.convert_effsize(r, 'r', 'cohen')\n",
    "print(d)"
   ]
  },
  {
   "cell_type": "markdown",
   "id": "e976e032",
   "metadata": {},
   "source": [
    "#### Cohen's d to Pearson r"
   ]
  },
  {
   "cell_type": "markdown",
   "id": "3deba633",
   "metadata": {},
   "source": [
    "<p>To convert d to r:</p>\n",
    "\n",
    "<p>$$r = \\frac{ d }{ \\sqrt{ d^2 + \\frac{ (n_x + n_y)^2 - 2(n_x + n_y) }{ n_x n_y } } }$$</p>"
   ]
  },
  {
   "cell_type": "code",
   "execution_count": 15,
   "id": "ff687376",
   "metadata": {
    "scrolled": true
   },
   "outputs": [
    {
     "data": {
      "text/plain": [
       "0.4000000000000001"
      ]
     },
     "execution_count": 15,
     "metadata": {},
     "output_type": "execute_result"
    }
   ],
   "source": [
    "pg.convert_effsize(d, 'cohen', 'r')"
   ]
  },
  {
   "cell_type": "markdown",
   "id": "10c6fefa",
   "metadata": {},
   "source": [
    "#### Cohen's d to Odds Ratio"
   ]
  },
  {
   "cell_type": "markdown",
   "id": "761cbfaf",
   "metadata": {},
   "source": [
    "<p>To convert d to an odds ratio:</p>\n",
    "\n",
    "<p>$$OR = exp ( \\frac{ d \\pi }{ \\sqrt{3} } )$$</p>"
   ]
  },
  {
   "cell_type": "code",
   "execution_count": 16,
   "id": "6afb27c1",
   "metadata": {},
   "outputs": [
    {
     "data": {
      "text/plain": [
       "4.870584168175906"
      ]
     },
     "execution_count": 16,
     "metadata": {},
     "output_type": "execute_result"
    }
   ],
   "source": [
    "pg.convert_effsize(d, 'cohen', 'odds-ratio')"
   ]
  },
  {
   "cell_type": "markdown",
   "id": "5f84ce28",
   "metadata": {},
   "source": [
    "### Cohen's d to Area Under a Curve"
   ]
  },
  {
   "cell_type": "markdown",
   "id": "cc53b125",
   "metadata": {},
   "source": [
    "#### Description/Intuition"
   ]
  },
  {
   "cell_type": "markdown",
   "id": "a952a4e8",
   "metadata": {},
   "source": [
    "<p>To convert d to area under a curve:</p>\n",
    "\n",
    "<p>$$AUC = N_{CDF} (\\frac{d}{\\sqrt{2}})$$</p>"
   ]
  },
  {
   "cell_type": "code",
   "execution_count": 17,
   "id": "757961e9",
   "metadata": {},
   "outputs": [
    {
     "data": {
      "text/plain": [
       "0.7314530107786792"
      ]
     },
     "execution_count": 17,
     "metadata": {},
     "output_type": "execute_result"
    }
   ],
   "source": [
    "pg.convert_effsize(d, 'cohen', 'auc')"
   ]
  },
  {
   "cell_type": "markdown",
   "id": "f07d1c98",
   "metadata": {},
   "source": [
    "## Effect Size Confidence Interval"
   ]
  },
  {
   "cell_type": "markdown",
   "id": "f81af287",
   "metadata": {},
   "source": [
    "#### Parameters"
   ]
  },
  {
   "cell_type": "markdown",
   "id": "a9631b5b",
   "metadata": {},
   "source": [
    "<table class=\"tableizer-table\">\n",
    "<thead><tr class=\"tableizer-firstrow\"><th style=\"text-align: left\">Function</th><th style=\"text-align: left\">Parameter</th><th style=\"text-align: left\">Type</th><th style=\"text-align: left\">Description</th></tr></thead><tbody>\n",
    " <tr><td style=\"text-align: left\">compute_esci</td><td style=\"text-align: left\">stat</td><td style=\"text-align: left\">float</td><td style=\"text-align: left\">original effect size; either a correlation coefficient or Cohen-type effect size (Cohen's d or Hedges g)</td></tr>\n",
    " <tr><td>&nbsp;</td><td style=\"text-align: left\">nx, ny</td><td style=\"text-align: left\">int</td><td style=\"text-align: left\">length of vector x and y</td></tr>\n",
    " <tr><td>&nbsp;</td><td style=\"text-align: left\">paired</td><td style=\"text-align: left\">boolean</td><td style=\"text-align: left\">whether effect size was estimated from a paired sample</td></tr>\n",
    " <tr><td>&nbsp;</td><td style=\"text-align: left\">eftype</td><td style=\"text-align: left\">string</td><td style=\"text-align: left\">'r' or 'cohen'</td></tr>\n",
    " <tr><td>&nbsp;</td><td style=\"text-align: left\">confidence</td><td style=\"text-align: left\">float</td><td style=\"text-align: left\">confidence level (e.g. 95%)</td></tr>\n",
    " <tr><td>&nbsp;</td><td style=\"text-align: left\">decimals</td><td style=\"text-align: left\">int</td><td style=\"text-align: left\">number digits after decimal to round to</td></tr>\n",
    " <tr><td>&nbsp;</td><td style=\"text-align: left\">alternative</td><td style=\"text-align: left\">string</td><td style=\"text-align: left\">'two-sided', 'greater', or 'less'</td></tr>\n",
    " <tr><td style=\"text-align: left\">returns:</td><td style=\"text-align: left\">ci</td><td style=\"text-align: left\">array</td><td style=\"text-align: left\">desired converted effect size</td></tr>\n",
    "</tbody></table>"
   ]
  },
  {
   "cell_type": "markdown",
   "id": "7331d704",
   "metadata": {},
   "source": [
    "#### For Pearson's r"
   ]
  },
  {
   "cell_type": "markdown",
   "id": "d01aaa14",
   "metadata": {},
   "source": [
    "<p>To compute the parametric confidence interval around a Pearson's r correlation coefficient, one must first apply a Fischer's r-to-z transformation</p>\n",
    "\n",
    "<p>$$z = 0.5 \\cdot ln \\frac{1+r}{1-r} = arctanh(x)$$</p>\n",
    "\n",
    "<p>and compute the standard error</p>\n",
    "\n",
    "<p>$$SE = \\frac{1}{\\sqrt{n-3}}$$</p>\n",
    "\n",
    "<p>The lower and upper confidence intervals in z-space are:</p>\n",
    "\n",
    "<p>$$ci_z = z \\pm crit \\cdot SE$$</p>\n",
    "\n",
    "<p>where $crit$ is the critical value of the normal distribution corresponding to the desired confidence level</p>"
   ]
  },
  {
   "cell_type": "code",
   "execution_count": 18,
   "id": "04f3e845",
   "metadata": {},
   "outputs": [
    {
     "name": "stdout",
     "output_type": "stream",
     "text": [
      "0.7468 [0.27 0.93]\n"
     ]
    }
   ],
   "source": [
    "import pingouin as pg\n",
    "x = [3, 4, 6, 7, 5, 6, 7, 3, 5, 4, 2]\n",
    "y = [4, 6, 6, 7, 6, 5, 5, 2, 3, 4, 1]\n",
    "nx, ny = len(x), len(y)\n",
    "stat = pg.compute_effsize(x, y, eftype='r')\n",
    "ci = pg.compute_esci(stat=stat, nx=nx, ny=ny, eftype='r')\n",
    "print(round(stat, 4), ci)"
   ]
  },
  {
   "cell_type": "markdown",
   "id": "8f8c1756",
   "metadata": {},
   "source": [
    "#### For Cohen's d"
   ]
  },
  {
   "cell_type": "markdown",
   "id": "1a2fc48d",
   "metadata": {},
   "source": [
    "<p>A formula for calculating the confidence interval for a Cohen d effect size is:</p>\n",
    "\n",
    "<p>$$SE = \\sqrt{ \\frac{n_x + n_y}{n_x n_y} + \\frac{d^2}{2(n_x + n_y)} }$$</p>\n",
    "\n",
    "<p>The lower and upper confidence intervals are then given by:</p>\n",
    "\n",
    "<p>$$ci_d = d \\pm crit \\cdot SE$$</p>\n",
    "\n",
    "<p>where $crit$ is the critical value of the t-distribution</p>"
   ]
  },
  {
   "cell_type": "code",
   "execution_count": 19,
   "id": "786ed3db",
   "metadata": {},
   "outputs": [
    {
     "name": "stdout",
     "output_type": "stream",
     "text": [
      "0.1538 [-0.737  1.045]\n"
     ]
    }
   ],
   "source": [
    "stat = pg.compute_effsize(x, y, eftype='cohen')\n",
    "ci = pg.compute_esci(stat, nx=nx, ny=ny, eftype='cohen', decimals=3)\n",
    "print(round(stat, 4), ci)"
   ]
  }
 ],
 "metadata": {
  "kernelspec": {
   "display_name": "Python 3 (ipykernel)",
   "language": "python",
   "name": "python3"
  },
  "language_info": {
   "codemirror_mode": {
    "name": "ipython",
    "version": 3
   },
   "file_extension": ".py",
   "mimetype": "text/x-python",
   "name": "python",
   "nbconvert_exporter": "python",
   "pygments_lexer": "ipython3",
   "version": "3.9.12"
  }
 },
 "nbformat": 4,
 "nbformat_minor": 5
}
